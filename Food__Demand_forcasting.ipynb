{
  "nbformat": 4,
  "nbformat_minor": 0,
  "metadata": {
    "colab": {
      "name": "Food _Demand_forcasting.ipynb",
      "provenance": [],
      "collapsed_sections": [],
      "authorship_tag": "ABX9TyM3BmX/Ghiu1jgD97caK7DB",
      "include_colab_link": true
    },
    "kernelspec": {
      "name": "python3",
      "display_name": "Python 3"
    }
  },
  "cells": [
    {
      "cell_type": "markdown",
      "metadata": {
        "id": "view-in-github",
        "colab_type": "text"
      },
      "source": [
        "<a href=\"https://colab.research.google.com/github/Krishan-Kumar-kk/Regression_problems_ML/blob/main/Food__Demand_forcasting.ipynb\" target=\"_parent\"><img src=\"https://colab.research.google.com/assets/colab-badge.svg\" alt=\"Open In Colab\"/></a>"
      ]
    },
    {
      "cell_type": "code",
      "metadata": {
        "id": "A8YRq-Hdb4II"
      },
      "source": [
        "import pandas as pd \r\n",
        "import numpy as np\r\n",
        "import matplotlib.pyplot as plt\r\n",
        "import seaborn as sns\r\n",
        "%matplotlib inline"
      ],
      "execution_count": 1,
      "outputs": []
    },
    {
      "cell_type": "code",
      "metadata": {
        "id": "k84SmErbdaNp"
      },
      "source": [
        "df_center_info=pd.read_csv(\"/content/fulfilment_center_info.csv\")\r\n",
        "df_meal_info=pd.read_csv(\"/content/meal_info.csv\")\r\n",
        "df_train=pd.read_csv(\"/content/train.csv\")"
      ],
      "execution_count": 2,
      "outputs": []
    },
    {
      "cell_type": "code",
      "metadata": {
        "id": "7mBVWCwQdsCM"
      },
      "source": [
        "df_test=pd.read_csv(\"/content/test_QoiMO9B.csv\")"
      ],
      "execution_count": 3,
      "outputs": []
    },
    {
      "cell_type": "code",
      "metadata": {
        "colab": {
          "base_uri": "https://localhost:8080/",
          "height": 419
        },
        "id": "BayOcbyM6mUa",
        "outputId": "f4ee3503-8ebc-44e6-83e1-4da048bf8e76"
      },
      "source": [
        "df_test"
      ],
      "execution_count": 4,
      "outputs": [
        {
          "output_type": "execute_result",
          "data": {
            "text/html": [
              "<div>\n",
              "<style scoped>\n",
              "    .dataframe tbody tr th:only-of-type {\n",
              "        vertical-align: middle;\n",
              "    }\n",
              "\n",
              "    .dataframe tbody tr th {\n",
              "        vertical-align: top;\n",
              "    }\n",
              "\n",
              "    .dataframe thead th {\n",
              "        text-align: right;\n",
              "    }\n",
              "</style>\n",
              "<table border=\"1\" class=\"dataframe\">\n",
              "  <thead>\n",
              "    <tr style=\"text-align: right;\">\n",
              "      <th></th>\n",
              "      <th>id</th>\n",
              "      <th>week</th>\n",
              "      <th>center_id</th>\n",
              "      <th>meal_id</th>\n",
              "      <th>checkout_price</th>\n",
              "      <th>base_price</th>\n",
              "      <th>emailer_for_promotion</th>\n",
              "      <th>homepage_featured</th>\n",
              "    </tr>\n",
              "  </thead>\n",
              "  <tbody>\n",
              "    <tr>\n",
              "      <th>0</th>\n",
              "      <td>1028232</td>\n",
              "      <td>146</td>\n",
              "      <td>55</td>\n",
              "      <td>1885</td>\n",
              "      <td>158.11</td>\n",
              "      <td>159.11</td>\n",
              "      <td>0</td>\n",
              "      <td>0</td>\n",
              "    </tr>\n",
              "    <tr>\n",
              "      <th>1</th>\n",
              "      <td>1127204</td>\n",
              "      <td>146</td>\n",
              "      <td>55</td>\n",
              "      <td>1993</td>\n",
              "      <td>160.11</td>\n",
              "      <td>159.11</td>\n",
              "      <td>0</td>\n",
              "      <td>0</td>\n",
              "    </tr>\n",
              "    <tr>\n",
              "      <th>2</th>\n",
              "      <td>1212707</td>\n",
              "      <td>146</td>\n",
              "      <td>55</td>\n",
              "      <td>2539</td>\n",
              "      <td>157.14</td>\n",
              "      <td>159.14</td>\n",
              "      <td>0</td>\n",
              "      <td>0</td>\n",
              "    </tr>\n",
              "    <tr>\n",
              "      <th>3</th>\n",
              "      <td>1082698</td>\n",
              "      <td>146</td>\n",
              "      <td>55</td>\n",
              "      <td>2631</td>\n",
              "      <td>162.02</td>\n",
              "      <td>162.02</td>\n",
              "      <td>0</td>\n",
              "      <td>0</td>\n",
              "    </tr>\n",
              "    <tr>\n",
              "      <th>4</th>\n",
              "      <td>1400926</td>\n",
              "      <td>146</td>\n",
              "      <td>55</td>\n",
              "      <td>1248</td>\n",
              "      <td>163.93</td>\n",
              "      <td>163.93</td>\n",
              "      <td>0</td>\n",
              "      <td>0</td>\n",
              "    </tr>\n",
              "    <tr>\n",
              "      <th>...</th>\n",
              "      <td>...</td>\n",
              "      <td>...</td>\n",
              "      <td>...</td>\n",
              "      <td>...</td>\n",
              "      <td>...</td>\n",
              "      <td>...</td>\n",
              "      <td>...</td>\n",
              "      <td>...</td>\n",
              "    </tr>\n",
              "    <tr>\n",
              "      <th>32568</th>\n",
              "      <td>1250239</td>\n",
              "      <td>155</td>\n",
              "      <td>61</td>\n",
              "      <td>1543</td>\n",
              "      <td>482.09</td>\n",
              "      <td>484.09</td>\n",
              "      <td>0</td>\n",
              "      <td>0</td>\n",
              "    </tr>\n",
              "    <tr>\n",
              "      <th>32569</th>\n",
              "      <td>1039516</td>\n",
              "      <td>155</td>\n",
              "      <td>61</td>\n",
              "      <td>2304</td>\n",
              "      <td>483.09</td>\n",
              "      <td>483.09</td>\n",
              "      <td>0</td>\n",
              "      <td>0</td>\n",
              "    </tr>\n",
              "    <tr>\n",
              "      <th>32570</th>\n",
              "      <td>1158107</td>\n",
              "      <td>155</td>\n",
              "      <td>61</td>\n",
              "      <td>2664</td>\n",
              "      <td>322.07</td>\n",
              "      <td>323.07</td>\n",
              "      <td>0</td>\n",
              "      <td>0</td>\n",
              "    </tr>\n",
              "    <tr>\n",
              "      <th>32571</th>\n",
              "      <td>1444235</td>\n",
              "      <td>155</td>\n",
              "      <td>61</td>\n",
              "      <td>2569</td>\n",
              "      <td>322.07</td>\n",
              "      <td>323.07</td>\n",
              "      <td>0</td>\n",
              "      <td>0</td>\n",
              "    </tr>\n",
              "    <tr>\n",
              "      <th>32572</th>\n",
              "      <td>1291286</td>\n",
              "      <td>155</td>\n",
              "      <td>61</td>\n",
              "      <td>2490</td>\n",
              "      <td>276.45</td>\n",
              "      <td>276.45</td>\n",
              "      <td>0</td>\n",
              "      <td>0</td>\n",
              "    </tr>\n",
              "  </tbody>\n",
              "</table>\n",
              "<p>32573 rows × 8 columns</p>\n",
              "</div>"
            ],
            "text/plain": [
              "            id  week  ...  emailer_for_promotion  homepage_featured\n",
              "0      1028232   146  ...                      0                  0\n",
              "1      1127204   146  ...                      0                  0\n",
              "2      1212707   146  ...                      0                  0\n",
              "3      1082698   146  ...                      0                  0\n",
              "4      1400926   146  ...                      0                  0\n",
              "...        ...   ...  ...                    ...                ...\n",
              "32568  1250239   155  ...                      0                  0\n",
              "32569  1039516   155  ...                      0                  0\n",
              "32570  1158107   155  ...                      0                  0\n",
              "32571  1444235   155  ...                      0                  0\n",
              "32572  1291286   155  ...                      0                  0\n",
              "\n",
              "[32573 rows x 8 columns]"
            ]
          },
          "metadata": {
            "tags": []
          },
          "execution_count": 4
        }
      ]
    },
    {
      "cell_type": "code",
      "metadata": {
        "colab": {
          "base_uri": "https://localhost:8080/",
          "height": 204
        },
        "id": "1ZwzScAgdzoV",
        "outputId": "b9d86092-525c-4386-8c95-9ca8c1db05ea"
      },
      "source": [
        "df_center_info.head()"
      ],
      "execution_count": 5,
      "outputs": [
        {
          "output_type": "execute_result",
          "data": {
            "text/html": [
              "<div>\n",
              "<style scoped>\n",
              "    .dataframe tbody tr th:only-of-type {\n",
              "        vertical-align: middle;\n",
              "    }\n",
              "\n",
              "    .dataframe tbody tr th {\n",
              "        vertical-align: top;\n",
              "    }\n",
              "\n",
              "    .dataframe thead th {\n",
              "        text-align: right;\n",
              "    }\n",
              "</style>\n",
              "<table border=\"1\" class=\"dataframe\">\n",
              "  <thead>\n",
              "    <tr style=\"text-align: right;\">\n",
              "      <th></th>\n",
              "      <th>center_id</th>\n",
              "      <th>city_code</th>\n",
              "      <th>region_code</th>\n",
              "      <th>center_type</th>\n",
              "      <th>op_area</th>\n",
              "    </tr>\n",
              "  </thead>\n",
              "  <tbody>\n",
              "    <tr>\n",
              "      <th>0</th>\n",
              "      <td>11</td>\n",
              "      <td>679</td>\n",
              "      <td>56</td>\n",
              "      <td>TYPE_A</td>\n",
              "      <td>3.7</td>\n",
              "    </tr>\n",
              "    <tr>\n",
              "      <th>1</th>\n",
              "      <td>13</td>\n",
              "      <td>590</td>\n",
              "      <td>56</td>\n",
              "      <td>TYPE_B</td>\n",
              "      <td>6.7</td>\n",
              "    </tr>\n",
              "    <tr>\n",
              "      <th>2</th>\n",
              "      <td>124</td>\n",
              "      <td>590</td>\n",
              "      <td>56</td>\n",
              "      <td>TYPE_C</td>\n",
              "      <td>4.0</td>\n",
              "    </tr>\n",
              "    <tr>\n",
              "      <th>3</th>\n",
              "      <td>66</td>\n",
              "      <td>648</td>\n",
              "      <td>34</td>\n",
              "      <td>TYPE_A</td>\n",
              "      <td>4.1</td>\n",
              "    </tr>\n",
              "    <tr>\n",
              "      <th>4</th>\n",
              "      <td>94</td>\n",
              "      <td>632</td>\n",
              "      <td>34</td>\n",
              "      <td>TYPE_C</td>\n",
              "      <td>3.6</td>\n",
              "    </tr>\n",
              "  </tbody>\n",
              "</table>\n",
              "</div>"
            ],
            "text/plain": [
              "   center_id  city_code  region_code center_type  op_area\n",
              "0         11        679           56      TYPE_A      3.7\n",
              "1         13        590           56      TYPE_B      6.7\n",
              "2        124        590           56      TYPE_C      4.0\n",
              "3         66        648           34      TYPE_A      4.1\n",
              "4         94        632           34      TYPE_C      3.6"
            ]
          },
          "metadata": {
            "tags": []
          },
          "execution_count": 5
        }
      ]
    },
    {
      "cell_type": "code",
      "metadata": {
        "colab": {
          "base_uri": "https://localhost:8080/",
          "height": 204
        },
        "id": "Gria17POd26J",
        "outputId": "9bd2bb8c-6dc0-4a04-9e94-ffec3125dc7c"
      },
      "source": [
        "df_meal_info.head()"
      ],
      "execution_count": 6,
      "outputs": [
        {
          "output_type": "execute_result",
          "data": {
            "text/html": [
              "<div>\n",
              "<style scoped>\n",
              "    .dataframe tbody tr th:only-of-type {\n",
              "        vertical-align: middle;\n",
              "    }\n",
              "\n",
              "    .dataframe tbody tr th {\n",
              "        vertical-align: top;\n",
              "    }\n",
              "\n",
              "    .dataframe thead th {\n",
              "        text-align: right;\n",
              "    }\n",
              "</style>\n",
              "<table border=\"1\" class=\"dataframe\">\n",
              "  <thead>\n",
              "    <tr style=\"text-align: right;\">\n",
              "      <th></th>\n",
              "      <th>meal_id</th>\n",
              "      <th>category</th>\n",
              "      <th>cuisine</th>\n",
              "    </tr>\n",
              "  </thead>\n",
              "  <tbody>\n",
              "    <tr>\n",
              "      <th>0</th>\n",
              "      <td>1885</td>\n",
              "      <td>Beverages</td>\n",
              "      <td>Thai</td>\n",
              "    </tr>\n",
              "    <tr>\n",
              "      <th>1</th>\n",
              "      <td>1993</td>\n",
              "      <td>Beverages</td>\n",
              "      <td>Thai</td>\n",
              "    </tr>\n",
              "    <tr>\n",
              "      <th>2</th>\n",
              "      <td>2539</td>\n",
              "      <td>Beverages</td>\n",
              "      <td>Thai</td>\n",
              "    </tr>\n",
              "    <tr>\n",
              "      <th>3</th>\n",
              "      <td>1248</td>\n",
              "      <td>Beverages</td>\n",
              "      <td>Indian</td>\n",
              "    </tr>\n",
              "    <tr>\n",
              "      <th>4</th>\n",
              "      <td>2631</td>\n",
              "      <td>Beverages</td>\n",
              "      <td>Indian</td>\n",
              "    </tr>\n",
              "  </tbody>\n",
              "</table>\n",
              "</div>"
            ],
            "text/plain": [
              "   meal_id   category cuisine\n",
              "0     1885  Beverages    Thai\n",
              "1     1993  Beverages    Thai\n",
              "2     2539  Beverages    Thai\n",
              "3     1248  Beverages  Indian\n",
              "4     2631  Beverages  Indian"
            ]
          },
          "metadata": {
            "tags": []
          },
          "execution_count": 6
        }
      ]
    },
    {
      "cell_type": "code",
      "metadata": {
        "colab": {
          "base_uri": "https://localhost:8080/",
          "height": 204
        },
        "id": "xnT5TwSod95R",
        "outputId": "ea6d739f-c20e-4df2-b5f6-0d3994c378d1"
      },
      "source": [
        "df_train.head()"
      ],
      "execution_count": 7,
      "outputs": [
        {
          "output_type": "execute_result",
          "data": {
            "text/html": [
              "<div>\n",
              "<style scoped>\n",
              "    .dataframe tbody tr th:only-of-type {\n",
              "        vertical-align: middle;\n",
              "    }\n",
              "\n",
              "    .dataframe tbody tr th {\n",
              "        vertical-align: top;\n",
              "    }\n",
              "\n",
              "    .dataframe thead th {\n",
              "        text-align: right;\n",
              "    }\n",
              "</style>\n",
              "<table border=\"1\" class=\"dataframe\">\n",
              "  <thead>\n",
              "    <tr style=\"text-align: right;\">\n",
              "      <th></th>\n",
              "      <th>id</th>\n",
              "      <th>week</th>\n",
              "      <th>center_id</th>\n",
              "      <th>meal_id</th>\n",
              "      <th>checkout_price</th>\n",
              "      <th>base_price</th>\n",
              "      <th>emailer_for_promotion</th>\n",
              "      <th>homepage_featured</th>\n",
              "      <th>num_orders</th>\n",
              "    </tr>\n",
              "  </thead>\n",
              "  <tbody>\n",
              "    <tr>\n",
              "      <th>0</th>\n",
              "      <td>1379560</td>\n",
              "      <td>1</td>\n",
              "      <td>55</td>\n",
              "      <td>1885</td>\n",
              "      <td>136.83</td>\n",
              "      <td>152.29</td>\n",
              "      <td>0</td>\n",
              "      <td>0</td>\n",
              "      <td>177</td>\n",
              "    </tr>\n",
              "    <tr>\n",
              "      <th>1</th>\n",
              "      <td>1466964</td>\n",
              "      <td>1</td>\n",
              "      <td>55</td>\n",
              "      <td>1993</td>\n",
              "      <td>136.83</td>\n",
              "      <td>135.83</td>\n",
              "      <td>0</td>\n",
              "      <td>0</td>\n",
              "      <td>270</td>\n",
              "    </tr>\n",
              "    <tr>\n",
              "      <th>2</th>\n",
              "      <td>1346989</td>\n",
              "      <td>1</td>\n",
              "      <td>55</td>\n",
              "      <td>2539</td>\n",
              "      <td>134.86</td>\n",
              "      <td>135.86</td>\n",
              "      <td>0</td>\n",
              "      <td>0</td>\n",
              "      <td>189</td>\n",
              "    </tr>\n",
              "    <tr>\n",
              "      <th>3</th>\n",
              "      <td>1338232</td>\n",
              "      <td>1</td>\n",
              "      <td>55</td>\n",
              "      <td>2139</td>\n",
              "      <td>339.50</td>\n",
              "      <td>437.53</td>\n",
              "      <td>0</td>\n",
              "      <td>0</td>\n",
              "      <td>54</td>\n",
              "    </tr>\n",
              "    <tr>\n",
              "      <th>4</th>\n",
              "      <td>1448490</td>\n",
              "      <td>1</td>\n",
              "      <td>55</td>\n",
              "      <td>2631</td>\n",
              "      <td>243.50</td>\n",
              "      <td>242.50</td>\n",
              "      <td>0</td>\n",
              "      <td>0</td>\n",
              "      <td>40</td>\n",
              "    </tr>\n",
              "  </tbody>\n",
              "</table>\n",
              "</div>"
            ],
            "text/plain": [
              "        id  week  ...  homepage_featured  num_orders\n",
              "0  1379560     1  ...                  0         177\n",
              "1  1466964     1  ...                  0         270\n",
              "2  1346989     1  ...                  0         189\n",
              "3  1338232     1  ...                  0          54\n",
              "4  1448490     1  ...                  0          40\n",
              "\n",
              "[5 rows x 9 columns]"
            ]
          },
          "metadata": {
            "tags": []
          },
          "execution_count": 7
        }
      ]
    },
    {
      "cell_type": "code",
      "metadata": {
        "colab": {
          "base_uri": "https://localhost:8080/"
        },
        "id": "7yZ9aWhRex-a",
        "outputId": "a8e59807-96c1-44a3-f522-b18e75dc942d"
      },
      "source": [
        "df_train.info()"
      ],
      "execution_count": 8,
      "outputs": [
        {
          "output_type": "stream",
          "text": [
            "<class 'pandas.core.frame.DataFrame'>\n",
            "RangeIndex: 456548 entries, 0 to 456547\n",
            "Data columns (total 9 columns):\n",
            " #   Column                 Non-Null Count   Dtype  \n",
            "---  ------                 --------------   -----  \n",
            " 0   id                     456548 non-null  int64  \n",
            " 1   week                   456548 non-null  int64  \n",
            " 2   center_id              456548 non-null  int64  \n",
            " 3   meal_id                456548 non-null  int64  \n",
            " 4   checkout_price         456548 non-null  float64\n",
            " 5   base_price             456548 non-null  float64\n",
            " 6   emailer_for_promotion  456548 non-null  int64  \n",
            " 7   homepage_featured      456548 non-null  int64  \n",
            " 8   num_orders             456548 non-null  int64  \n",
            "dtypes: float64(2), int64(7)\n",
            "memory usage: 31.3 MB\n"
          ],
          "name": "stdout"
        }
      ]
    },
    {
      "cell_type": "markdown",
      "metadata": {
        "id": "tkF7scb5CTdP"
      },
      "source": [
        "# Merging dataset"
      ]
    },
    {
      "cell_type": "code",
      "metadata": {
        "id": "csSk4Yq_gSqE"
      },
      "source": [
        "data=pd.merge(df_train, df_center_info ,on='center_id')\r\n",
        "data2=pd.merge(df_test, df_center_info ,on='center_id')"
      ],
      "execution_count": 9,
      "outputs": []
    },
    {
      "cell_type": "code",
      "metadata": {
        "colab": {
          "base_uri": "https://localhost:8080/",
          "height": 419
        },
        "id": "RYaVDduChI3z",
        "outputId": "c4c75dc7-a150-4169-bd6a-80823a6d23e6"
      },
      "source": [
        "data"
      ],
      "execution_count": 10,
      "outputs": [
        {
          "output_type": "execute_result",
          "data": {
            "text/html": [
              "<div>\n",
              "<style scoped>\n",
              "    .dataframe tbody tr th:only-of-type {\n",
              "        vertical-align: middle;\n",
              "    }\n",
              "\n",
              "    .dataframe tbody tr th {\n",
              "        vertical-align: top;\n",
              "    }\n",
              "\n",
              "    .dataframe thead th {\n",
              "        text-align: right;\n",
              "    }\n",
              "</style>\n",
              "<table border=\"1\" class=\"dataframe\">\n",
              "  <thead>\n",
              "    <tr style=\"text-align: right;\">\n",
              "      <th></th>\n",
              "      <th>id</th>\n",
              "      <th>week</th>\n",
              "      <th>center_id</th>\n",
              "      <th>meal_id</th>\n",
              "      <th>checkout_price</th>\n",
              "      <th>base_price</th>\n",
              "      <th>emailer_for_promotion</th>\n",
              "      <th>homepage_featured</th>\n",
              "      <th>num_orders</th>\n",
              "      <th>city_code</th>\n",
              "      <th>region_code</th>\n",
              "      <th>center_type</th>\n",
              "      <th>op_area</th>\n",
              "    </tr>\n",
              "  </thead>\n",
              "  <tbody>\n",
              "    <tr>\n",
              "      <th>0</th>\n",
              "      <td>1379560</td>\n",
              "      <td>1</td>\n",
              "      <td>55</td>\n",
              "      <td>1885</td>\n",
              "      <td>136.83</td>\n",
              "      <td>152.29</td>\n",
              "      <td>0</td>\n",
              "      <td>0</td>\n",
              "      <td>177</td>\n",
              "      <td>647</td>\n",
              "      <td>56</td>\n",
              "      <td>TYPE_C</td>\n",
              "      <td>2.0</td>\n",
              "    </tr>\n",
              "    <tr>\n",
              "      <th>1</th>\n",
              "      <td>1466964</td>\n",
              "      <td>1</td>\n",
              "      <td>55</td>\n",
              "      <td>1993</td>\n",
              "      <td>136.83</td>\n",
              "      <td>135.83</td>\n",
              "      <td>0</td>\n",
              "      <td>0</td>\n",
              "      <td>270</td>\n",
              "      <td>647</td>\n",
              "      <td>56</td>\n",
              "      <td>TYPE_C</td>\n",
              "      <td>2.0</td>\n",
              "    </tr>\n",
              "    <tr>\n",
              "      <th>2</th>\n",
              "      <td>1346989</td>\n",
              "      <td>1</td>\n",
              "      <td>55</td>\n",
              "      <td>2539</td>\n",
              "      <td>134.86</td>\n",
              "      <td>135.86</td>\n",
              "      <td>0</td>\n",
              "      <td>0</td>\n",
              "      <td>189</td>\n",
              "      <td>647</td>\n",
              "      <td>56</td>\n",
              "      <td>TYPE_C</td>\n",
              "      <td>2.0</td>\n",
              "    </tr>\n",
              "    <tr>\n",
              "      <th>3</th>\n",
              "      <td>1338232</td>\n",
              "      <td>1</td>\n",
              "      <td>55</td>\n",
              "      <td>2139</td>\n",
              "      <td>339.50</td>\n",
              "      <td>437.53</td>\n",
              "      <td>0</td>\n",
              "      <td>0</td>\n",
              "      <td>54</td>\n",
              "      <td>647</td>\n",
              "      <td>56</td>\n",
              "      <td>TYPE_C</td>\n",
              "      <td>2.0</td>\n",
              "    </tr>\n",
              "    <tr>\n",
              "      <th>4</th>\n",
              "      <td>1448490</td>\n",
              "      <td>1</td>\n",
              "      <td>55</td>\n",
              "      <td>2631</td>\n",
              "      <td>243.50</td>\n",
              "      <td>242.50</td>\n",
              "      <td>0</td>\n",
              "      <td>0</td>\n",
              "      <td>40</td>\n",
              "      <td>647</td>\n",
              "      <td>56</td>\n",
              "      <td>TYPE_C</td>\n",
              "      <td>2.0</td>\n",
              "    </tr>\n",
              "    <tr>\n",
              "      <th>...</th>\n",
              "      <td>...</td>\n",
              "      <td>...</td>\n",
              "      <td>...</td>\n",
              "      <td>...</td>\n",
              "      <td>...</td>\n",
              "      <td>...</td>\n",
              "      <td>...</td>\n",
              "      <td>...</td>\n",
              "      <td>...</td>\n",
              "      <td>...</td>\n",
              "      <td>...</td>\n",
              "      <td>...</td>\n",
              "      <td>...</td>\n",
              "    </tr>\n",
              "    <tr>\n",
              "      <th>456543</th>\n",
              "      <td>1271326</td>\n",
              "      <td>145</td>\n",
              "      <td>61</td>\n",
              "      <td>1543</td>\n",
              "      <td>484.09</td>\n",
              "      <td>484.09</td>\n",
              "      <td>0</td>\n",
              "      <td>0</td>\n",
              "      <td>68</td>\n",
              "      <td>473</td>\n",
              "      <td>77</td>\n",
              "      <td>TYPE_A</td>\n",
              "      <td>4.5</td>\n",
              "    </tr>\n",
              "    <tr>\n",
              "      <th>456544</th>\n",
              "      <td>1062036</td>\n",
              "      <td>145</td>\n",
              "      <td>61</td>\n",
              "      <td>2304</td>\n",
              "      <td>482.09</td>\n",
              "      <td>482.09</td>\n",
              "      <td>0</td>\n",
              "      <td>0</td>\n",
              "      <td>42</td>\n",
              "      <td>473</td>\n",
              "      <td>77</td>\n",
              "      <td>TYPE_A</td>\n",
              "      <td>4.5</td>\n",
              "    </tr>\n",
              "    <tr>\n",
              "      <th>456545</th>\n",
              "      <td>1110849</td>\n",
              "      <td>145</td>\n",
              "      <td>61</td>\n",
              "      <td>2664</td>\n",
              "      <td>237.68</td>\n",
              "      <td>321.07</td>\n",
              "      <td>0</td>\n",
              "      <td>0</td>\n",
              "      <td>501</td>\n",
              "      <td>473</td>\n",
              "      <td>77</td>\n",
              "      <td>TYPE_A</td>\n",
              "      <td>4.5</td>\n",
              "    </tr>\n",
              "    <tr>\n",
              "      <th>456546</th>\n",
              "      <td>1147725</td>\n",
              "      <td>145</td>\n",
              "      <td>61</td>\n",
              "      <td>2569</td>\n",
              "      <td>243.50</td>\n",
              "      <td>313.34</td>\n",
              "      <td>0</td>\n",
              "      <td>0</td>\n",
              "      <td>729</td>\n",
              "      <td>473</td>\n",
              "      <td>77</td>\n",
              "      <td>TYPE_A</td>\n",
              "      <td>4.5</td>\n",
              "    </tr>\n",
              "    <tr>\n",
              "      <th>456547</th>\n",
              "      <td>1361984</td>\n",
              "      <td>145</td>\n",
              "      <td>61</td>\n",
              "      <td>2490</td>\n",
              "      <td>292.03</td>\n",
              "      <td>290.03</td>\n",
              "      <td>0</td>\n",
              "      <td>0</td>\n",
              "      <td>162</td>\n",
              "      <td>473</td>\n",
              "      <td>77</td>\n",
              "      <td>TYPE_A</td>\n",
              "      <td>4.5</td>\n",
              "    </tr>\n",
              "  </tbody>\n",
              "</table>\n",
              "<p>456548 rows × 13 columns</p>\n",
              "</div>"
            ],
            "text/plain": [
              "             id  week  center_id  ...  region_code  center_type  op_area\n",
              "0       1379560     1         55  ...           56       TYPE_C      2.0\n",
              "1       1466964     1         55  ...           56       TYPE_C      2.0\n",
              "2       1346989     1         55  ...           56       TYPE_C      2.0\n",
              "3       1338232     1         55  ...           56       TYPE_C      2.0\n",
              "4       1448490     1         55  ...           56       TYPE_C      2.0\n",
              "...         ...   ...        ...  ...          ...          ...      ...\n",
              "456543  1271326   145         61  ...           77       TYPE_A      4.5\n",
              "456544  1062036   145         61  ...           77       TYPE_A      4.5\n",
              "456545  1110849   145         61  ...           77       TYPE_A      4.5\n",
              "456546  1147725   145         61  ...           77       TYPE_A      4.5\n",
              "456547  1361984   145         61  ...           77       TYPE_A      4.5\n",
              "\n",
              "[456548 rows x 13 columns]"
            ]
          },
          "metadata": {
            "tags": []
          },
          "execution_count": 10
        }
      ]
    },
    {
      "cell_type": "code",
      "metadata": {
        "id": "EWXATlbphSJ7"
      },
      "source": [
        "df_data=pd.merge(data,df_meal_info,on='meal_id')\r\n",
        "new_test=pd.merge(data2,df_meal_info,on='meal_id')"
      ],
      "execution_count": 11,
      "outputs": []
    },
    {
      "cell_type": "code",
      "metadata": {
        "colab": {
          "base_uri": "https://localhost:8080/",
          "height": 419
        },
        "id": "09OIEKb1hdXO",
        "outputId": "35673747-5057-4a43-a3bf-7bb3942fcb55"
      },
      "source": [
        "df_data"
      ],
      "execution_count": 12,
      "outputs": [
        {
          "output_type": "execute_result",
          "data": {
            "text/html": [
              "<div>\n",
              "<style scoped>\n",
              "    .dataframe tbody tr th:only-of-type {\n",
              "        vertical-align: middle;\n",
              "    }\n",
              "\n",
              "    .dataframe tbody tr th {\n",
              "        vertical-align: top;\n",
              "    }\n",
              "\n",
              "    .dataframe thead th {\n",
              "        text-align: right;\n",
              "    }\n",
              "</style>\n",
              "<table border=\"1\" class=\"dataframe\">\n",
              "  <thead>\n",
              "    <tr style=\"text-align: right;\">\n",
              "      <th></th>\n",
              "      <th>id</th>\n",
              "      <th>week</th>\n",
              "      <th>center_id</th>\n",
              "      <th>meal_id</th>\n",
              "      <th>checkout_price</th>\n",
              "      <th>base_price</th>\n",
              "      <th>emailer_for_promotion</th>\n",
              "      <th>homepage_featured</th>\n",
              "      <th>num_orders</th>\n",
              "      <th>city_code</th>\n",
              "      <th>region_code</th>\n",
              "      <th>center_type</th>\n",
              "      <th>op_area</th>\n",
              "      <th>category</th>\n",
              "      <th>cuisine</th>\n",
              "    </tr>\n",
              "  </thead>\n",
              "  <tbody>\n",
              "    <tr>\n",
              "      <th>0</th>\n",
              "      <td>1379560</td>\n",
              "      <td>1</td>\n",
              "      <td>55</td>\n",
              "      <td>1885</td>\n",
              "      <td>136.83</td>\n",
              "      <td>152.29</td>\n",
              "      <td>0</td>\n",
              "      <td>0</td>\n",
              "      <td>177</td>\n",
              "      <td>647</td>\n",
              "      <td>56</td>\n",
              "      <td>TYPE_C</td>\n",
              "      <td>2.0</td>\n",
              "      <td>Beverages</td>\n",
              "      <td>Thai</td>\n",
              "    </tr>\n",
              "    <tr>\n",
              "      <th>1</th>\n",
              "      <td>1018704</td>\n",
              "      <td>2</td>\n",
              "      <td>55</td>\n",
              "      <td>1885</td>\n",
              "      <td>135.83</td>\n",
              "      <td>152.29</td>\n",
              "      <td>0</td>\n",
              "      <td>0</td>\n",
              "      <td>323</td>\n",
              "      <td>647</td>\n",
              "      <td>56</td>\n",
              "      <td>TYPE_C</td>\n",
              "      <td>2.0</td>\n",
              "      <td>Beverages</td>\n",
              "      <td>Thai</td>\n",
              "    </tr>\n",
              "    <tr>\n",
              "      <th>2</th>\n",
              "      <td>1196273</td>\n",
              "      <td>3</td>\n",
              "      <td>55</td>\n",
              "      <td>1885</td>\n",
              "      <td>132.92</td>\n",
              "      <td>133.92</td>\n",
              "      <td>0</td>\n",
              "      <td>0</td>\n",
              "      <td>96</td>\n",
              "      <td>647</td>\n",
              "      <td>56</td>\n",
              "      <td>TYPE_C</td>\n",
              "      <td>2.0</td>\n",
              "      <td>Beverages</td>\n",
              "      <td>Thai</td>\n",
              "    </tr>\n",
              "    <tr>\n",
              "      <th>3</th>\n",
              "      <td>1116527</td>\n",
              "      <td>4</td>\n",
              "      <td>55</td>\n",
              "      <td>1885</td>\n",
              "      <td>135.86</td>\n",
              "      <td>134.86</td>\n",
              "      <td>0</td>\n",
              "      <td>0</td>\n",
              "      <td>163</td>\n",
              "      <td>647</td>\n",
              "      <td>56</td>\n",
              "      <td>TYPE_C</td>\n",
              "      <td>2.0</td>\n",
              "      <td>Beverages</td>\n",
              "      <td>Thai</td>\n",
              "    </tr>\n",
              "    <tr>\n",
              "      <th>4</th>\n",
              "      <td>1343872</td>\n",
              "      <td>5</td>\n",
              "      <td>55</td>\n",
              "      <td>1885</td>\n",
              "      <td>146.50</td>\n",
              "      <td>147.50</td>\n",
              "      <td>0</td>\n",
              "      <td>0</td>\n",
              "      <td>215</td>\n",
              "      <td>647</td>\n",
              "      <td>56</td>\n",
              "      <td>TYPE_C</td>\n",
              "      <td>2.0</td>\n",
              "      <td>Beverages</td>\n",
              "      <td>Thai</td>\n",
              "    </tr>\n",
              "    <tr>\n",
              "      <th>...</th>\n",
              "      <td>...</td>\n",
              "      <td>...</td>\n",
              "      <td>...</td>\n",
              "      <td>...</td>\n",
              "      <td>...</td>\n",
              "      <td>...</td>\n",
              "      <td>...</td>\n",
              "      <td>...</td>\n",
              "      <td>...</td>\n",
              "      <td>...</td>\n",
              "      <td>...</td>\n",
              "      <td>...</td>\n",
              "      <td>...</td>\n",
              "      <td>...</td>\n",
              "      <td>...</td>\n",
              "    </tr>\n",
              "    <tr>\n",
              "      <th>456543</th>\n",
              "      <td>1437396</td>\n",
              "      <td>141</td>\n",
              "      <td>61</td>\n",
              "      <td>2104</td>\n",
              "      <td>583.03</td>\n",
              "      <td>630.53</td>\n",
              "      <td>0</td>\n",
              "      <td>1</td>\n",
              "      <td>13</td>\n",
              "      <td>473</td>\n",
              "      <td>77</td>\n",
              "      <td>TYPE_A</td>\n",
              "      <td>4.5</td>\n",
              "      <td>Fish</td>\n",
              "      <td>Continental</td>\n",
              "    </tr>\n",
              "    <tr>\n",
              "      <th>456544</th>\n",
              "      <td>1060716</td>\n",
              "      <td>142</td>\n",
              "      <td>61</td>\n",
              "      <td>2104</td>\n",
              "      <td>581.03</td>\n",
              "      <td>582.03</td>\n",
              "      <td>0</td>\n",
              "      <td>0</td>\n",
              "      <td>42</td>\n",
              "      <td>473</td>\n",
              "      <td>77</td>\n",
              "      <td>TYPE_A</td>\n",
              "      <td>4.5</td>\n",
              "      <td>Fish</td>\n",
              "      <td>Continental</td>\n",
              "    </tr>\n",
              "    <tr>\n",
              "      <th>456545</th>\n",
              "      <td>1029231</td>\n",
              "      <td>143</td>\n",
              "      <td>61</td>\n",
              "      <td>2104</td>\n",
              "      <td>583.03</td>\n",
              "      <td>581.03</td>\n",
              "      <td>0</td>\n",
              "      <td>0</td>\n",
              "      <td>40</td>\n",
              "      <td>473</td>\n",
              "      <td>77</td>\n",
              "      <td>TYPE_A</td>\n",
              "      <td>4.5</td>\n",
              "      <td>Fish</td>\n",
              "      <td>Continental</td>\n",
              "    </tr>\n",
              "    <tr>\n",
              "      <th>456546</th>\n",
              "      <td>1141147</td>\n",
              "      <td>144</td>\n",
              "      <td>61</td>\n",
              "      <td>2104</td>\n",
              "      <td>582.03</td>\n",
              "      <td>581.03</td>\n",
              "      <td>0</td>\n",
              "      <td>0</td>\n",
              "      <td>53</td>\n",
              "      <td>473</td>\n",
              "      <td>77</td>\n",
              "      <td>TYPE_A</td>\n",
              "      <td>4.5</td>\n",
              "      <td>Fish</td>\n",
              "      <td>Continental</td>\n",
              "    </tr>\n",
              "    <tr>\n",
              "      <th>456547</th>\n",
              "      <td>1443704</td>\n",
              "      <td>145</td>\n",
              "      <td>61</td>\n",
              "      <td>2104</td>\n",
              "      <td>581.03</td>\n",
              "      <td>582.03</td>\n",
              "      <td>0</td>\n",
              "      <td>0</td>\n",
              "      <td>27</td>\n",
              "      <td>473</td>\n",
              "      <td>77</td>\n",
              "      <td>TYPE_A</td>\n",
              "      <td>4.5</td>\n",
              "      <td>Fish</td>\n",
              "      <td>Continental</td>\n",
              "    </tr>\n",
              "  </tbody>\n",
              "</table>\n",
              "<p>456548 rows × 15 columns</p>\n",
              "</div>"
            ],
            "text/plain": [
              "             id  week  center_id  ...  op_area   category      cuisine\n",
              "0       1379560     1         55  ...      2.0  Beverages         Thai\n",
              "1       1018704     2         55  ...      2.0  Beverages         Thai\n",
              "2       1196273     3         55  ...      2.0  Beverages         Thai\n",
              "3       1116527     4         55  ...      2.0  Beverages         Thai\n",
              "4       1343872     5         55  ...      2.0  Beverages         Thai\n",
              "...         ...   ...        ...  ...      ...        ...          ...\n",
              "456543  1437396   141         61  ...      4.5       Fish  Continental\n",
              "456544  1060716   142         61  ...      4.5       Fish  Continental\n",
              "456545  1029231   143         61  ...      4.5       Fish  Continental\n",
              "456546  1141147   144         61  ...      4.5       Fish  Continental\n",
              "456547  1443704   145         61  ...      4.5       Fish  Continental\n",
              "\n",
              "[456548 rows x 15 columns]"
            ]
          },
          "metadata": {
            "tags": []
          },
          "execution_count": 12
        }
      ]
    },
    {
      "cell_type": "code",
      "metadata": {
        "colab": {
          "base_uri": "https://localhost:8080/"
        },
        "id": "Hx5Xkm3ohjI7",
        "outputId": "75fec9b6-2b4f-40c1-d7cc-4edefd232ee6"
      },
      "source": [
        "df_data.info()"
      ],
      "execution_count": 13,
      "outputs": [
        {
          "output_type": "stream",
          "text": [
            "<class 'pandas.core.frame.DataFrame'>\n",
            "Int64Index: 456548 entries, 0 to 456547\n",
            "Data columns (total 15 columns):\n",
            " #   Column                 Non-Null Count   Dtype  \n",
            "---  ------                 --------------   -----  \n",
            " 0   id                     456548 non-null  int64  \n",
            " 1   week                   456548 non-null  int64  \n",
            " 2   center_id              456548 non-null  int64  \n",
            " 3   meal_id                456548 non-null  int64  \n",
            " 4   checkout_price         456548 non-null  float64\n",
            " 5   base_price             456548 non-null  float64\n",
            " 6   emailer_for_promotion  456548 non-null  int64  \n",
            " 7   homepage_featured      456548 non-null  int64  \n",
            " 8   num_orders             456548 non-null  int64  \n",
            " 9   city_code              456548 non-null  int64  \n",
            " 10  region_code            456548 non-null  int64  \n",
            " 11  center_type            456548 non-null  object \n",
            " 12  op_area                456548 non-null  float64\n",
            " 13  category               456548 non-null  object \n",
            " 14  cuisine                456548 non-null  object \n",
            "dtypes: float64(3), int64(9), object(3)\n",
            "memory usage: 55.7+ MB\n"
          ],
          "name": "stdout"
        }
      ]
    },
    {
      "cell_type": "code",
      "metadata": {
        "colab": {
          "base_uri": "https://localhost:8080/"
        },
        "id": "O7WvAKc0hoS_",
        "outputId": "5555abe1-37ef-4cbb-c5bc-9f779f2c6812"
      },
      "source": [
        "df_test.info()"
      ],
      "execution_count": 14,
      "outputs": [
        {
          "output_type": "stream",
          "text": [
            "<class 'pandas.core.frame.DataFrame'>\n",
            "RangeIndex: 32573 entries, 0 to 32572\n",
            "Data columns (total 8 columns):\n",
            " #   Column                 Non-Null Count  Dtype  \n",
            "---  ------                 --------------  -----  \n",
            " 0   id                     32573 non-null  int64  \n",
            " 1   week                   32573 non-null  int64  \n",
            " 2   center_id              32573 non-null  int64  \n",
            " 3   meal_id                32573 non-null  int64  \n",
            " 4   checkout_price         32573 non-null  float64\n",
            " 5   base_price             32573 non-null  float64\n",
            " 6   emailer_for_promotion  32573 non-null  int64  \n",
            " 7   homepage_featured      32573 non-null  int64  \n",
            "dtypes: float64(2), int64(6)\n",
            "memory usage: 2.0 MB\n"
          ],
          "name": "stdout"
        }
      ]
    },
    {
      "cell_type": "code",
      "metadata": {
        "colab": {
          "base_uri": "https://localhost:8080/"
        },
        "id": "O1j5CgwciG8l",
        "outputId": "a5d32107-2bfa-4716-add1-5e693353da65"
      },
      "source": [
        "df_data.isnull().sum()"
      ],
      "execution_count": 15,
      "outputs": [
        {
          "output_type": "execute_result",
          "data": {
            "text/plain": [
              "id                       0\n",
              "week                     0\n",
              "center_id                0\n",
              "meal_id                  0\n",
              "checkout_price           0\n",
              "base_price               0\n",
              "emailer_for_promotion    0\n",
              "homepage_featured        0\n",
              "num_orders               0\n",
              "city_code                0\n",
              "region_code              0\n",
              "center_type              0\n",
              "op_area                  0\n",
              "category                 0\n",
              "cuisine                  0\n",
              "dtype: int64"
            ]
          },
          "metadata": {
            "tags": []
          },
          "execution_count": 15
        }
      ]
    },
    {
      "cell_type": "code",
      "metadata": {
        "colab": {
          "base_uri": "https://localhost:8080/"
        },
        "id": "UE3pM0fZiOZS",
        "outputId": "126f7e23-4c6d-4895-fd5f-aa574e0175a7"
      },
      "source": [
        "df_test.isnull().sum()"
      ],
      "execution_count": 16,
      "outputs": [
        {
          "output_type": "execute_result",
          "data": {
            "text/plain": [
              "id                       0\n",
              "week                     0\n",
              "center_id                0\n",
              "meal_id                  0\n",
              "checkout_price           0\n",
              "base_price               0\n",
              "emailer_for_promotion    0\n",
              "homepage_featured        0\n",
              "dtype: int64"
            ]
          },
          "metadata": {
            "tags": []
          },
          "execution_count": 16
        }
      ]
    },
    {
      "cell_type": "code",
      "metadata": {
        "colab": {
          "base_uri": "https://localhost:8080/",
          "height": 297
        },
        "id": "CSCTwPX9iTqC",
        "outputId": "65b87a89-f6d6-4ddc-9265-6c9eb4ec3b34"
      },
      "source": [
        "df_test.describe(include='all')"
      ],
      "execution_count": 17,
      "outputs": [
        {
          "output_type": "execute_result",
          "data": {
            "text/html": [
              "<div>\n",
              "<style scoped>\n",
              "    .dataframe tbody tr th:only-of-type {\n",
              "        vertical-align: middle;\n",
              "    }\n",
              "\n",
              "    .dataframe tbody tr th {\n",
              "        vertical-align: top;\n",
              "    }\n",
              "\n",
              "    .dataframe thead th {\n",
              "        text-align: right;\n",
              "    }\n",
              "</style>\n",
              "<table border=\"1\" class=\"dataframe\">\n",
              "  <thead>\n",
              "    <tr style=\"text-align: right;\">\n",
              "      <th></th>\n",
              "      <th>id</th>\n",
              "      <th>week</th>\n",
              "      <th>center_id</th>\n",
              "      <th>meal_id</th>\n",
              "      <th>checkout_price</th>\n",
              "      <th>base_price</th>\n",
              "      <th>emailer_for_promotion</th>\n",
              "      <th>homepage_featured</th>\n",
              "    </tr>\n",
              "  </thead>\n",
              "  <tbody>\n",
              "    <tr>\n",
              "      <th>count</th>\n",
              "      <td>3.257300e+04</td>\n",
              "      <td>32573.000000</td>\n",
              "      <td>32573.000000</td>\n",
              "      <td>32573.000000</td>\n",
              "      <td>32573.000000</td>\n",
              "      <td>32573.000000</td>\n",
              "      <td>32573.000000</td>\n",
              "      <td>32573.000000</td>\n",
              "    </tr>\n",
              "    <tr>\n",
              "      <th>mean</th>\n",
              "      <td>1.248476e+06</td>\n",
              "      <td>150.477819</td>\n",
              "      <td>81.901728</td>\n",
              "      <td>2032.067909</td>\n",
              "      <td>341.854440</td>\n",
              "      <td>356.493615</td>\n",
              "      <td>0.066435</td>\n",
              "      <td>0.081356</td>\n",
              "    </tr>\n",
              "    <tr>\n",
              "      <th>std</th>\n",
              "      <td>1.441580e+05</td>\n",
              "      <td>2.864072</td>\n",
              "      <td>45.950455</td>\n",
              "      <td>547.199004</td>\n",
              "      <td>153.893886</td>\n",
              "      <td>155.150101</td>\n",
              "      <td>0.249045</td>\n",
              "      <td>0.273385</td>\n",
              "    </tr>\n",
              "    <tr>\n",
              "      <th>min</th>\n",
              "      <td>1.000085e+06</td>\n",
              "      <td>146.000000</td>\n",
              "      <td>10.000000</td>\n",
              "      <td>1062.000000</td>\n",
              "      <td>67.900000</td>\n",
              "      <td>89.240000</td>\n",
              "      <td>0.000000</td>\n",
              "      <td>0.000000</td>\n",
              "    </tr>\n",
              "    <tr>\n",
              "      <th>25%</th>\n",
              "      <td>1.123969e+06</td>\n",
              "      <td>148.000000</td>\n",
              "      <td>43.000000</td>\n",
              "      <td>1558.000000</td>\n",
              "      <td>214.430000</td>\n",
              "      <td>243.500000</td>\n",
              "      <td>0.000000</td>\n",
              "      <td>0.000000</td>\n",
              "    </tr>\n",
              "    <tr>\n",
              "      <th>50%</th>\n",
              "      <td>1.247296e+06</td>\n",
              "      <td>150.000000</td>\n",
              "      <td>76.000000</td>\n",
              "      <td>1993.000000</td>\n",
              "      <td>320.130000</td>\n",
              "      <td>321.130000</td>\n",
              "      <td>0.000000</td>\n",
              "      <td>0.000000</td>\n",
              "    </tr>\n",
              "    <tr>\n",
              "      <th>75%</th>\n",
              "      <td>1.372971e+06</td>\n",
              "      <td>153.000000</td>\n",
              "      <td>110.000000</td>\n",
              "      <td>2569.000000</td>\n",
              "      <td>446.230000</td>\n",
              "      <td>455.930000</td>\n",
              "      <td>0.000000</td>\n",
              "      <td>0.000000</td>\n",
              "    </tr>\n",
              "    <tr>\n",
              "      <th>max</th>\n",
              "      <td>1.499996e+06</td>\n",
              "      <td>155.000000</td>\n",
              "      <td>186.000000</td>\n",
              "      <td>2956.000000</td>\n",
              "      <td>1113.620000</td>\n",
              "      <td>1112.620000</td>\n",
              "      <td>1.000000</td>\n",
              "      <td>1.000000</td>\n",
              "    </tr>\n",
              "  </tbody>\n",
              "</table>\n",
              "</div>"
            ],
            "text/plain": [
              "                 id          week  ...  emailer_for_promotion  homepage_featured\n",
              "count  3.257300e+04  32573.000000  ...           32573.000000       32573.000000\n",
              "mean   1.248476e+06    150.477819  ...               0.066435           0.081356\n",
              "std    1.441580e+05      2.864072  ...               0.249045           0.273385\n",
              "min    1.000085e+06    146.000000  ...               0.000000           0.000000\n",
              "25%    1.123969e+06    148.000000  ...               0.000000           0.000000\n",
              "50%    1.247296e+06    150.000000  ...               0.000000           0.000000\n",
              "75%    1.372971e+06    153.000000  ...               0.000000           0.000000\n",
              "max    1.499996e+06    155.000000  ...               1.000000           1.000000\n",
              "\n",
              "[8 rows x 8 columns]"
            ]
          },
          "metadata": {
            "tags": []
          },
          "execution_count": 17
        }
      ]
    },
    {
      "cell_type": "code",
      "metadata": {
        "colab": {
          "base_uri": "https://localhost:8080/",
          "height": 410
        },
        "id": "Dlvb_Gulii8J",
        "outputId": "24743fa9-528a-4af5-aadb-9ca331b82861"
      },
      "source": [
        "df_data.describe(include='all')"
      ],
      "execution_count": 18,
      "outputs": [
        {
          "output_type": "execute_result",
          "data": {
            "text/html": [
              "<div>\n",
              "<style scoped>\n",
              "    .dataframe tbody tr th:only-of-type {\n",
              "        vertical-align: middle;\n",
              "    }\n",
              "\n",
              "    .dataframe tbody tr th {\n",
              "        vertical-align: top;\n",
              "    }\n",
              "\n",
              "    .dataframe thead th {\n",
              "        text-align: right;\n",
              "    }\n",
              "</style>\n",
              "<table border=\"1\" class=\"dataframe\">\n",
              "  <thead>\n",
              "    <tr style=\"text-align: right;\">\n",
              "      <th></th>\n",
              "      <th>id</th>\n",
              "      <th>week</th>\n",
              "      <th>center_id</th>\n",
              "      <th>meal_id</th>\n",
              "      <th>checkout_price</th>\n",
              "      <th>base_price</th>\n",
              "      <th>emailer_for_promotion</th>\n",
              "      <th>homepage_featured</th>\n",
              "      <th>num_orders</th>\n",
              "      <th>city_code</th>\n",
              "      <th>region_code</th>\n",
              "      <th>center_type</th>\n",
              "      <th>op_area</th>\n",
              "      <th>category</th>\n",
              "      <th>cuisine</th>\n",
              "    </tr>\n",
              "  </thead>\n",
              "  <tbody>\n",
              "    <tr>\n",
              "      <th>count</th>\n",
              "      <td>4.565480e+05</td>\n",
              "      <td>456548.000000</td>\n",
              "      <td>456548.000000</td>\n",
              "      <td>456548.000000</td>\n",
              "      <td>456548.000000</td>\n",
              "      <td>456548.000000</td>\n",
              "      <td>456548.000000</td>\n",
              "      <td>456548.00000</td>\n",
              "      <td>456548.000000</td>\n",
              "      <td>456548.000000</td>\n",
              "      <td>456548.000000</td>\n",
              "      <td>456548</td>\n",
              "      <td>456548.000000</td>\n",
              "      <td>456548</td>\n",
              "      <td>456548</td>\n",
              "    </tr>\n",
              "    <tr>\n",
              "      <th>unique</th>\n",
              "      <td>NaN</td>\n",
              "      <td>NaN</td>\n",
              "      <td>NaN</td>\n",
              "      <td>NaN</td>\n",
              "      <td>NaN</td>\n",
              "      <td>NaN</td>\n",
              "      <td>NaN</td>\n",
              "      <td>NaN</td>\n",
              "      <td>NaN</td>\n",
              "      <td>NaN</td>\n",
              "      <td>NaN</td>\n",
              "      <td>3</td>\n",
              "      <td>NaN</td>\n",
              "      <td>14</td>\n",
              "      <td>4</td>\n",
              "    </tr>\n",
              "    <tr>\n",
              "      <th>top</th>\n",
              "      <td>NaN</td>\n",
              "      <td>NaN</td>\n",
              "      <td>NaN</td>\n",
              "      <td>NaN</td>\n",
              "      <td>NaN</td>\n",
              "      <td>NaN</td>\n",
              "      <td>NaN</td>\n",
              "      <td>NaN</td>\n",
              "      <td>NaN</td>\n",
              "      <td>NaN</td>\n",
              "      <td>NaN</td>\n",
              "      <td>TYPE_A</td>\n",
              "      <td>NaN</td>\n",
              "      <td>Beverages</td>\n",
              "      <td>Italian</td>\n",
              "    </tr>\n",
              "    <tr>\n",
              "      <th>freq</th>\n",
              "      <td>NaN</td>\n",
              "      <td>NaN</td>\n",
              "      <td>NaN</td>\n",
              "      <td>NaN</td>\n",
              "      <td>NaN</td>\n",
              "      <td>NaN</td>\n",
              "      <td>NaN</td>\n",
              "      <td>NaN</td>\n",
              "      <td>NaN</td>\n",
              "      <td>NaN</td>\n",
              "      <td>NaN</td>\n",
              "      <td>262881</td>\n",
              "      <td>NaN</td>\n",
              "      <td>127890</td>\n",
              "      <td>122925</td>\n",
              "    </tr>\n",
              "    <tr>\n",
              "      <th>mean</th>\n",
              "      <td>1.250096e+06</td>\n",
              "      <td>74.768771</td>\n",
              "      <td>82.105796</td>\n",
              "      <td>2024.337458</td>\n",
              "      <td>332.238933</td>\n",
              "      <td>354.156627</td>\n",
              "      <td>0.081152</td>\n",
              "      <td>0.10920</td>\n",
              "      <td>261.872760</td>\n",
              "      <td>601.553399</td>\n",
              "      <td>56.614566</td>\n",
              "      <td>NaN</td>\n",
              "      <td>4.083590</td>\n",
              "      <td>NaN</td>\n",
              "      <td>NaN</td>\n",
              "    </tr>\n",
              "    <tr>\n",
              "      <th>std</th>\n",
              "      <td>1.443548e+05</td>\n",
              "      <td>41.524956</td>\n",
              "      <td>45.975046</td>\n",
              "      <td>547.420920</td>\n",
              "      <td>152.939723</td>\n",
              "      <td>160.715914</td>\n",
              "      <td>0.273069</td>\n",
              "      <td>0.31189</td>\n",
              "      <td>395.922798</td>\n",
              "      <td>66.195914</td>\n",
              "      <td>17.641306</td>\n",
              "      <td>NaN</td>\n",
              "      <td>1.091686</td>\n",
              "      <td>NaN</td>\n",
              "      <td>NaN</td>\n",
              "    </tr>\n",
              "    <tr>\n",
              "      <th>min</th>\n",
              "      <td>1.000000e+06</td>\n",
              "      <td>1.000000</td>\n",
              "      <td>10.000000</td>\n",
              "      <td>1062.000000</td>\n",
              "      <td>2.970000</td>\n",
              "      <td>55.350000</td>\n",
              "      <td>0.000000</td>\n",
              "      <td>0.00000</td>\n",
              "      <td>13.000000</td>\n",
              "      <td>456.000000</td>\n",
              "      <td>23.000000</td>\n",
              "      <td>NaN</td>\n",
              "      <td>0.900000</td>\n",
              "      <td>NaN</td>\n",
              "      <td>NaN</td>\n",
              "    </tr>\n",
              "    <tr>\n",
              "      <th>25%</th>\n",
              "      <td>1.124999e+06</td>\n",
              "      <td>39.000000</td>\n",
              "      <td>43.000000</td>\n",
              "      <td>1558.000000</td>\n",
              "      <td>228.950000</td>\n",
              "      <td>243.500000</td>\n",
              "      <td>0.000000</td>\n",
              "      <td>0.00000</td>\n",
              "      <td>54.000000</td>\n",
              "      <td>553.000000</td>\n",
              "      <td>34.000000</td>\n",
              "      <td>NaN</td>\n",
              "      <td>3.600000</td>\n",
              "      <td>NaN</td>\n",
              "      <td>NaN</td>\n",
              "    </tr>\n",
              "    <tr>\n",
              "      <th>50%</th>\n",
              "      <td>1.250184e+06</td>\n",
              "      <td>76.000000</td>\n",
              "      <td>76.000000</td>\n",
              "      <td>1993.000000</td>\n",
              "      <td>296.820000</td>\n",
              "      <td>310.460000</td>\n",
              "      <td>0.000000</td>\n",
              "      <td>0.00000</td>\n",
              "      <td>136.000000</td>\n",
              "      <td>596.000000</td>\n",
              "      <td>56.000000</td>\n",
              "      <td>NaN</td>\n",
              "      <td>4.000000</td>\n",
              "      <td>NaN</td>\n",
              "      <td>NaN</td>\n",
              "    </tr>\n",
              "    <tr>\n",
              "      <th>75%</th>\n",
              "      <td>1.375140e+06</td>\n",
              "      <td>111.000000</td>\n",
              "      <td>110.000000</td>\n",
              "      <td>2539.000000</td>\n",
              "      <td>445.230000</td>\n",
              "      <td>458.870000</td>\n",
              "      <td>0.000000</td>\n",
              "      <td>0.00000</td>\n",
              "      <td>324.000000</td>\n",
              "      <td>651.000000</td>\n",
              "      <td>77.000000</td>\n",
              "      <td>NaN</td>\n",
              "      <td>4.500000</td>\n",
              "      <td>NaN</td>\n",
              "      <td>NaN</td>\n",
              "    </tr>\n",
              "    <tr>\n",
              "      <th>max</th>\n",
              "      <td>1.499999e+06</td>\n",
              "      <td>145.000000</td>\n",
              "      <td>186.000000</td>\n",
              "      <td>2956.000000</td>\n",
              "      <td>866.270000</td>\n",
              "      <td>866.270000</td>\n",
              "      <td>1.000000</td>\n",
              "      <td>1.00000</td>\n",
              "      <td>24299.000000</td>\n",
              "      <td>713.000000</td>\n",
              "      <td>93.000000</td>\n",
              "      <td>NaN</td>\n",
              "      <td>7.000000</td>\n",
              "      <td>NaN</td>\n",
              "      <td>NaN</td>\n",
              "    </tr>\n",
              "  </tbody>\n",
              "</table>\n",
              "</div>"
            ],
            "text/plain": [
              "                  id           week  ...   category  cuisine\n",
              "count   4.565480e+05  456548.000000  ...     456548   456548\n",
              "unique           NaN            NaN  ...         14        4\n",
              "top              NaN            NaN  ...  Beverages  Italian\n",
              "freq             NaN            NaN  ...     127890   122925\n",
              "mean    1.250096e+06      74.768771  ...        NaN      NaN\n",
              "std     1.443548e+05      41.524956  ...        NaN      NaN\n",
              "min     1.000000e+06       1.000000  ...        NaN      NaN\n",
              "25%     1.124999e+06      39.000000  ...        NaN      NaN\n",
              "50%     1.250184e+06      76.000000  ...        NaN      NaN\n",
              "75%     1.375140e+06     111.000000  ...        NaN      NaN\n",
              "max     1.499999e+06     145.000000  ...        NaN      NaN\n",
              "\n",
              "[11 rows x 15 columns]"
            ]
          },
          "metadata": {
            "tags": []
          },
          "execution_count": 18
        }
      ]
    },
    {
      "cell_type": "markdown",
      "metadata": {
        "id": "et2KYREcjVhM"
      },
      "source": [
        "# EDA"
      ]
    },
    {
      "cell_type": "code",
      "metadata": {
        "colab": {
          "base_uri": "https://localhost:8080/",
          "height": 313
        },
        "id": "td8IP6x4jDsv",
        "outputId": "cf86ef47-3231-477c-f6fe-c684e7fbf808"
      },
      "source": [
        "sns.scatterplot(data=df_data ,x='base_price',y='checkout_price',hue='cuisine')\r\n",
        "plt.title('Scatter plot Base Price Vs Checkout Price')"
      ],
      "execution_count": 19,
      "outputs": [
        {
          "output_type": "execute_result",
          "data": {
            "text/plain": [
              "Text(0.5, 1.0, 'Scatter plot Base Price Vs Checkout Price')"
            ]
          },
          "metadata": {
            "tags": []
          },
          "execution_count": 19
        },
        {
          "output_type": "display_data",
          "data": {
            "image/png": "[encoded data removed]",
            "text/plain": [
              "<Figure size 432x288 with 1 Axes>"
            ]
          },
          "metadata": {
            "tags": [],
            "needs_background": "light"
          }
        }
      ]
    },
    {
      "cell_type": "code",
      "metadata": {
        "colab": {
          "base_uri": "https://localhost:8080/",
          "height": 313
        },
        "id": "3JP8b7GNmi7B",
        "outputId": "2167abca-d75c-440b-fcad-d3131bfbd50e"
      },
      "source": [
        "sns.scatterplot(data= df_data, x='base_price',y='num_orders')\r\n",
        "plt.title(' Base Price Vs Number of Orders')"
      ],
      "execution_count": 20,
      "outputs": [
        {
          "output_type": "execute_result",
          "data": {
            "text/plain": [
              "Text(0.5, 1.0, ' Base Price Vs Number of Orders')"
            ]
          },
          "metadata": {
            "tags": []
          },
          "execution_count": 20
        },
        {
          "output_type": "display_data",
          "data": {
            "image/png": "[encoded data removed]",
            "text/plain": [
              "<Figure size 432x288 with 1 Axes>"
            ]
          },
          "metadata": {
            "tags": [],
            "needs_background": "light"
          }
        }
      ]
    },
    {
      "cell_type": "code",
      "metadata": {
        "colab": {
          "base_uri": "https://localhost:8080/",
          "height": 297
        },
        "id": "am9DDcemlT88",
        "outputId": "7229b716-73ed-4db7-ae41-e4042baaa5e4"
      },
      "source": [
        "sns.scatterplot(data= df_data, x='checkout_price',y='num_orders')"
      ],
      "execution_count": 21,
      "outputs": [
        {
          "output_type": "execute_result",
          "data": {
            "text/plain": [
              "<matplotlib.axes._subplots.AxesSubplot at 0x7f72e8fe56a0>"
            ]
          },
          "metadata": {
            "tags": []
          },
          "execution_count": 21
        },
        {
          "output_type": "display_data",
          "data": {
            "image/png": "[encoded data removed]",
            "text/plain": [
              "<Figure size 432x288 with 1 Axes>"
            ]
          },
          "metadata": {
            "tags": [],
            "needs_background": "light"
          }
        }
      ]
    },
    {
      "cell_type": "code",
      "metadata": {
        "colab": {
          "base_uri": "https://localhost:8080/",
          "height": 351
        },
        "id": "rocR-SpPnviL",
        "outputId": "5377dd43-dbe8-4d84-d920-8c67574d63ec"
      },
      "source": [
        "sns.distplot( df_data['checkout_price'])"
      ],
      "execution_count": 22,
      "outputs": [
        {
          "output_type": "stream",
          "text": [
            "/usr/local/lib/python3.6/dist-packages/seaborn/distributions.py:2557: FutureWarning: `distplot` is a deprecated function and will be removed in a future version. Please adapt your code to use either `displot` (a figure-level function with similar flexibility) or `histplot` (an axes-level function for histograms).\n",
            "  warnings.warn(msg, FutureWarning)\n"
          ],
          "name": "stderr"
        },
        {
          "output_type": "execute_result",
          "data": {
            "text/plain": [
              "<matplotlib.axes._subplots.AxesSubplot at 0x7f72e8fe55c0>"
            ]
          },
          "metadata": {
            "tags": []
          },
          "execution_count": 22
        },
        {
          "output_type": "display_data",
          "data": {
            "image/png": "[encoded data removed]",
            "text/plain": [
              "<Figure size 432x288 with 1 Axes>"
            ]
          },
          "metadata": {
            "tags": [],
            "needs_background": "light"
          }
        }
      ]
    },
    {
      "cell_type": "code",
      "metadata": {
        "colab": {
          "base_uri": "https://localhost:8080/",
          "height": 351
        },
        "id": "mPrysheuqQEj",
        "outputId": "bc13aa84-dc58-4539-f575-c7660926d597"
      },
      "source": [
        "sns.distplot(df_data['base_price'])"
      ],
      "execution_count": 23,
      "outputs": [
        {
          "output_type": "stream",
          "text": [
            "/usr/local/lib/python3.6/dist-packages/seaborn/distributions.py:2557: FutureWarning: `distplot` is a deprecated function and will be removed in a future version. Please adapt your code to use either `displot` (a figure-level function with similar flexibility) or `histplot` (an axes-level function for histograms).\n",
            "  warnings.warn(msg, FutureWarning)\n"
          ],
          "name": "stderr"
        },
        {
          "output_type": "execute_result",
          "data": {
            "text/plain": [
              "<matplotlib.axes._subplots.AxesSubplot at 0x7f72e8659208>"
            ]
          },
          "metadata": {
            "tags": []
          },
          "execution_count": 23
        },
        {
          "output_type": "display_data",
          "data": {
            "image/png": "[encoded data removed]",
            "text/plain": [
              "<Figure size 432x288 with 1 Axes>"
            ]
          },
          "metadata": {
            "tags": [],
            "needs_background": "light"
          }
        }
      ]
    },
    {
      "cell_type": "code",
      "metadata": {
        "colab": {
          "base_uri": "https://localhost:8080/",
          "height": 271
        },
        "id": "h-jPUbsyp_wO",
        "outputId": "14bb7593-77e2-4e64-fb83-b6623c7ce8a0"
      },
      "source": [
        "sns.boxplot(y=df_data['base_price'])  "
      ],
      "execution_count": 24,
      "outputs": [
        {
          "output_type": "execute_result",
          "data": {
            "text/plain": [
              "<matplotlib.axes._subplots.AxesSubplot at 0x7f72e0539630>"
            ]
          },
          "metadata": {
            "tags": []
          },
          "execution_count": 24
        },
        {
          "output_type": "display_data",
          "data": {
            "image/png": "[encoded data removed]",
            "text/plain": [
              "<Figure size 432x288 with 1 Axes>"
            ]
          },
          "metadata": {
            "tags": [],
            "needs_background": "light"
          }
        }
      ]
    },
    {
      "cell_type": "code",
      "metadata": {
        "colab": {
          "base_uri": "https://localhost:8080/",
          "height": 269
        },
        "id": "_LmlW12Iqhhy",
        "outputId": "758bca59-6279-491e-aad8-1960a2f334e0"
      },
      "source": [
        "sns.boxplot(y=df_data['checkout_price']) "
      ],
      "execution_count": 25,
      "outputs": [
        {
          "output_type": "execute_result",
          "data": {
            "text/plain": [
              "<matplotlib.axes._subplots.AxesSubplot at 0x7f72e0523160>"
            ]
          },
          "metadata": {
            "tags": []
          },
          "execution_count": 25
        },
        {
          "output_type": "display_data",
          "data": {
            "image/png": "[encoded data removed]",
            "text/plain": [
              "<Figure size 432x288 with 1 Axes>"
            ]
          },
          "metadata": {
            "tags": [],
            "needs_background": "light"
          }
        }
      ]
    },
    {
      "cell_type": "code",
      "metadata": {
        "colab": {
          "base_uri": "https://localhost:8080/",
          "height": 269
        },
        "id": "hikAwAVzq9lD",
        "outputId": "d73178b1-5034-4a9a-83ae-e991f0bd680a"
      },
      "source": [
        "sns.boxplot(y=df_data['num_orders']) "
      ],
      "execution_count": 26,
      "outputs": [
        {
          "output_type": "execute_result",
          "data": {
            "text/plain": [
              "<matplotlib.axes._subplots.AxesSubplot at 0x7f72e0484b38>"
            ]
          },
          "metadata": {
            "tags": []
          },
          "execution_count": 26
        },
        {
          "output_type": "display_data",
          "data": {
            "image/png": "[encoded data removed]",
            "text/plain": [
              "<Figure size 432x288 with 1 Axes>"
            ]
          },
          "metadata": {
            "tags": [],
            "needs_background": "light"
          }
        }
      ]
    },
    {
      "cell_type": "code",
      "metadata": {
        "colab": {
          "base_uri": "https://localhost:8080/",
          "height": 350
        },
        "id": "UiX0OpBbrJND",
        "outputId": "8e774b57-accf-4ec2-db2b-bc73f7cc2b8f"
      },
      "source": [
        "sns.countplot(df_data['op_area'])"
      ],
      "execution_count": 27,
      "outputs": [
        {
          "output_type": "stream",
          "text": [
            "/usr/local/lib/python3.6/dist-packages/seaborn/_decorators.py:43: FutureWarning: Pass the following variable as a keyword arg: x. From version 0.12, the only valid positional argument will be `data`, and passing other arguments without an explicit keyword will result in an error or misinterpretation.\n",
            "  FutureWarning\n"
          ],
          "name": "stderr"
        },
        {
          "output_type": "execute_result",
          "data": {
            "text/plain": [
              "<matplotlib.axes._subplots.AxesSubplot at 0x7f72e0468cf8>"
            ]
          },
          "metadata": {
            "tags": []
          },
          "execution_count": 27
        },
        {
          "output_type": "display_data",
          "data": {
            "image/png": "[encoded data removed]",
            "text/plain": [
              "<Figure size 432x288 with 1 Axes>"
            ]
          },
          "metadata": {
            "tags": [],
            "needs_background": "light"
          }
        }
      ]
    },
    {
      "cell_type": "code",
      "metadata": {
        "colab": {
          "base_uri": "https://localhost:8080/",
          "height": 987
        },
        "id": "aY7cYLhOrNJ4",
        "outputId": "81e4ddc4-dcec-4de5-bfb8-6080c1a3b8a7"
      },
      "source": [
        "plt.figure(figsize=(20,15))\r\n",
        "correlation=df_data.corr()\r\n",
        "sns.heatmap(correlation, annot=True)"
      ],
      "execution_count": 28,
      "outputs": [
        {
          "output_type": "execute_result",
          "data": {
            "text/plain": [
              "<matplotlib.axes._subplots.AxesSubplot at 0x7f72e0360470>"
            ]
          },
          "metadata": {
            "tags": []
          },
          "execution_count": 28
        },
        {
          "output_type": "display_data",
          "data": {
            "image/png": "[encoded data removed]",
            "text/plain": [
              "<Figure size 1440x1080 with 2 Axes>"
            ]
          },
          "metadata": {
            "tags": [],
            "needs_background": "light"
          }
        }
      ]
    },
    {
      "cell_type": "code",
      "metadata": {
        "colab": {
          "base_uri": "https://localhost:8080/",
          "height": 419
        },
        "id": "WFFlMgLssbH-",
        "outputId": "f2c2d901-d922-4cf0-e731-61ff8435d8dc"
      },
      "source": [
        "new_data=df_data.copy()\r\n",
        "new_data"
      ],
      "execution_count": 29,
      "outputs": [
        {
          "output_type": "execute_result",
          "data": {
            "text/html": [
              "<div>\n",
              "<style scoped>\n",
              "    .dataframe tbody tr th:only-of-type {\n",
              "        vertical-align: middle;\n",
              "    }\n",
              "\n",
              "    .dataframe tbody tr th {\n",
              "        vertical-align: top;\n",
              "    }\n",
              "\n",
              "    .dataframe thead th {\n",
              "        text-align: right;\n",
              "    }\n",
              "</style>\n",
              "<table border=\"1\" class=\"dataframe\">\n",
              "  <thead>\n",
              "    <tr style=\"text-align: right;\">\n",
              "      <th></th>\n",
              "      <th>id</th>\n",
              "      <th>week</th>\n",
              "      <th>center_id</th>\n",
              "      <th>meal_id</th>\n",
              "      <th>checkout_price</th>\n",
              "      <th>base_price</th>\n",
              "      <th>emailer_for_promotion</th>\n",
              "      <th>homepage_featured</th>\n",
              "      <th>num_orders</th>\n",
              "      <th>city_code</th>\n",
              "      <th>region_code</th>\n",
              "      <th>center_type</th>\n",
              "      <th>op_area</th>\n",
              "      <th>category</th>\n",
              "      <th>cuisine</th>\n",
              "    </tr>\n",
              "  </thead>\n",
              "  <tbody>\n",
              "    <tr>\n",
              "      <th>0</th>\n",
              "      <td>1379560</td>\n",
              "      <td>1</td>\n",
              "      <td>55</td>\n",
              "      <td>1885</td>\n",
              "      <td>136.83</td>\n",
              "      <td>152.29</td>\n",
              "      <td>0</td>\n",
              "      <td>0</td>\n",
              "      <td>177</td>\n",
              "      <td>647</td>\n",
              "      <td>56</td>\n",
              "      <td>TYPE_C</td>\n",
              "      <td>2.0</td>\n",
              "      <td>Beverages</td>\n",
              "      <td>Thai</td>\n",
              "    </tr>\n",
              "    <tr>\n",
              "      <th>1</th>\n",
              "      <td>1018704</td>\n",
              "      <td>2</td>\n",
              "      <td>55</td>\n",
              "      <td>1885</td>\n",
              "      <td>135.83</td>\n",
              "      <td>152.29</td>\n",
              "      <td>0</td>\n",
              "      <td>0</td>\n",
              "      <td>323</td>\n",
              "      <td>647</td>\n",
              "      <td>56</td>\n",
              "      <td>TYPE_C</td>\n",
              "      <td>2.0</td>\n",
              "      <td>Beverages</td>\n",
              "      <td>Thai</td>\n",
              "    </tr>\n",
              "    <tr>\n",
              "      <th>2</th>\n",
              "      <td>1196273</td>\n",
              "      <td>3</td>\n",
              "      <td>55</td>\n",
              "      <td>1885</td>\n",
              "      <td>132.92</td>\n",
              "      <td>133.92</td>\n",
              "      <td>0</td>\n",
              "      <td>0</td>\n",
              "      <td>96</td>\n",
              "      <td>647</td>\n",
              "      <td>56</td>\n",
              "      <td>TYPE_C</td>\n",
              "      <td>2.0</td>\n",
              "      <td>Beverages</td>\n",
              "      <td>Thai</td>\n",
              "    </tr>\n",
              "    <tr>\n",
              "      <th>3</th>\n",
              "      <td>1116527</td>\n",
              "      <td>4</td>\n",
              "      <td>55</td>\n",
              "      <td>1885</td>\n",
              "      <td>135.86</td>\n",
              "      <td>134.86</td>\n",
              "      <td>0</td>\n",
              "      <td>0</td>\n",
              "      <td>163</td>\n",
              "      <td>647</td>\n",
              "      <td>56</td>\n",
              "      <td>TYPE_C</td>\n",
              "      <td>2.0</td>\n",
              "      <td>Beverages</td>\n",
              "      <td>Thai</td>\n",
              "    </tr>\n",
              "    <tr>\n",
              "      <th>4</th>\n",
              "      <td>1343872</td>\n",
              "      <td>5</td>\n",
              "      <td>55</td>\n",
              "      <td>1885</td>\n",
              "      <td>146.50</td>\n",
              "      <td>147.50</td>\n",
              "      <td>0</td>\n",
              "      <td>0</td>\n",
              "      <td>215</td>\n",
              "      <td>647</td>\n",
              "      <td>56</td>\n",
              "      <td>TYPE_C</td>\n",
              "      <td>2.0</td>\n",
              "      <td>Beverages</td>\n",
              "      <td>Thai</td>\n",
              "    </tr>\n",
              "    <tr>\n",
              "      <th>...</th>\n",
              "      <td>...</td>\n",
              "      <td>...</td>\n",
              "      <td>...</td>\n",
              "      <td>...</td>\n",
              "      <td>...</td>\n",
              "      <td>...</td>\n",
              "      <td>...</td>\n",
              "      <td>...</td>\n",
              "      <td>...</td>\n",
              "      <td>...</td>\n",
              "      <td>...</td>\n",
              "      <td>...</td>\n",
              "      <td>...</td>\n",
              "      <td>...</td>\n",
              "      <td>...</td>\n",
              "    </tr>\n",
              "    <tr>\n",
              "      <th>456543</th>\n",
              "      <td>1437396</td>\n",
              "      <td>141</td>\n",
              "      <td>61</td>\n",
              "      <td>2104</td>\n",
              "      <td>583.03</td>\n",
              "      <td>630.53</td>\n",
              "      <td>0</td>\n",
              "      <td>1</td>\n",
              "      <td>13</td>\n",
              "      <td>473</td>\n",
              "      <td>77</td>\n",
              "      <td>TYPE_A</td>\n",
              "      <td>4.5</td>\n",
              "      <td>Fish</td>\n",
              "      <td>Continental</td>\n",
              "    </tr>\n",
              "    <tr>\n",
              "      <th>456544</th>\n",
              "      <td>1060716</td>\n",
              "      <td>142</td>\n",
              "      <td>61</td>\n",
              "      <td>2104</td>\n",
              "      <td>581.03</td>\n",
              "      <td>582.03</td>\n",
              "      <td>0</td>\n",
              "      <td>0</td>\n",
              "      <td>42</td>\n",
              "      <td>473</td>\n",
              "      <td>77</td>\n",
              "      <td>TYPE_A</td>\n",
              "      <td>4.5</td>\n",
              "      <td>Fish</td>\n",
              "      <td>Continental</td>\n",
              "    </tr>\n",
              "    <tr>\n",
              "      <th>456545</th>\n",
              "      <td>1029231</td>\n",
              "      <td>143</td>\n",
              "      <td>61</td>\n",
              "      <td>2104</td>\n",
              "      <td>583.03</td>\n",
              "      <td>581.03</td>\n",
              "      <td>0</td>\n",
              "      <td>0</td>\n",
              "      <td>40</td>\n",
              "      <td>473</td>\n",
              "      <td>77</td>\n",
              "      <td>TYPE_A</td>\n",
              "      <td>4.5</td>\n",
              "      <td>Fish</td>\n",
              "      <td>Continental</td>\n",
              "    </tr>\n",
              "    <tr>\n",
              "      <th>456546</th>\n",
              "      <td>1141147</td>\n",
              "      <td>144</td>\n",
              "      <td>61</td>\n",
              "      <td>2104</td>\n",
              "      <td>582.03</td>\n",
              "      <td>581.03</td>\n",
              "      <td>0</td>\n",
              "      <td>0</td>\n",
              "      <td>53</td>\n",
              "      <td>473</td>\n",
              "      <td>77</td>\n",
              "      <td>TYPE_A</td>\n",
              "      <td>4.5</td>\n",
              "      <td>Fish</td>\n",
              "      <td>Continental</td>\n",
              "    </tr>\n",
              "    <tr>\n",
              "      <th>456547</th>\n",
              "      <td>1443704</td>\n",
              "      <td>145</td>\n",
              "      <td>61</td>\n",
              "      <td>2104</td>\n",
              "      <td>581.03</td>\n",
              "      <td>582.03</td>\n",
              "      <td>0</td>\n",
              "      <td>0</td>\n",
              "      <td>27</td>\n",
              "      <td>473</td>\n",
              "      <td>77</td>\n",
              "      <td>TYPE_A</td>\n",
              "      <td>4.5</td>\n",
              "      <td>Fish</td>\n",
              "      <td>Continental</td>\n",
              "    </tr>\n",
              "  </tbody>\n",
              "</table>\n",
              "<p>456548 rows × 15 columns</p>\n",
              "</div>"
            ],
            "text/plain": [
              "             id  week  center_id  ...  op_area   category      cuisine\n",
              "0       1379560     1         55  ...      2.0  Beverages         Thai\n",
              "1       1018704     2         55  ...      2.0  Beverages         Thai\n",
              "2       1196273     3         55  ...      2.0  Beverages         Thai\n",
              "3       1116527     4         55  ...      2.0  Beverages         Thai\n",
              "4       1343872     5         55  ...      2.0  Beverages         Thai\n",
              "...         ...   ...        ...  ...      ...        ...          ...\n",
              "456543  1437396   141         61  ...      4.5       Fish  Continental\n",
              "456544  1060716   142         61  ...      4.5       Fish  Continental\n",
              "456545  1029231   143         61  ...      4.5       Fish  Continental\n",
              "456546  1141147   144         61  ...      4.5       Fish  Continental\n",
              "456547  1443704   145         61  ...      4.5       Fish  Continental\n",
              "\n",
              "[456548 rows x 15 columns]"
            ]
          },
          "metadata": {
            "tags": []
          },
          "execution_count": 29
        }
      ]
    },
    {
      "cell_type": "markdown",
      "metadata": {
        "id": "p191bi02Cgs6"
      },
      "source": [
        "# Lables encoding"
      ]
    },
    {
      "cell_type": "code",
      "metadata": {
        "colab": {
          "base_uri": "https://localhost:8080/",
          "height": 204
        },
        "id": "2dLkZXDEtB2A",
        "outputId": "471fe6fa-380e-4417-f5f3-5ad0f6220406"
      },
      "source": [
        "#Lables encoding\r\n",
        "from sklearn.preprocessing import LabelEncoder\r\n",
        "label=LabelEncoder()\r\n",
        "new_data['Map_center_type']=label.fit_transform(new_data['center_type'])\r\n",
        "new_test['Map_center_type']=label.fit_transform(new_test['center_type'])\r\n",
        "new_data[['Map_center_type','center_type']].head()"
      ],
      "execution_count": 30,
      "outputs": [
        {
          "output_type": "execute_result",
          "data": {
            "text/html": [
              "<div>\n",
              "<style scoped>\n",
              "    .dataframe tbody tr th:only-of-type {\n",
              "        vertical-align: middle;\n",
              "    }\n",
              "\n",
              "    .dataframe tbody tr th {\n",
              "        vertical-align: top;\n",
              "    }\n",
              "\n",
              "    .dataframe thead th {\n",
              "        text-align: right;\n",
              "    }\n",
              "</style>\n",
              "<table border=\"1\" class=\"dataframe\">\n",
              "  <thead>\n",
              "    <tr style=\"text-align: right;\">\n",
              "      <th></th>\n",
              "      <th>Map_center_type</th>\n",
              "      <th>center_type</th>\n",
              "    </tr>\n",
              "  </thead>\n",
              "  <tbody>\n",
              "    <tr>\n",
              "      <th>0</th>\n",
              "      <td>2</td>\n",
              "      <td>TYPE_C</td>\n",
              "    </tr>\n",
              "    <tr>\n",
              "      <th>1</th>\n",
              "      <td>2</td>\n",
              "      <td>TYPE_C</td>\n",
              "    </tr>\n",
              "    <tr>\n",
              "      <th>2</th>\n",
              "      <td>2</td>\n",
              "      <td>TYPE_C</td>\n",
              "    </tr>\n",
              "    <tr>\n",
              "      <th>3</th>\n",
              "      <td>2</td>\n",
              "      <td>TYPE_C</td>\n",
              "    </tr>\n",
              "    <tr>\n",
              "      <th>4</th>\n",
              "      <td>2</td>\n",
              "      <td>TYPE_C</td>\n",
              "    </tr>\n",
              "  </tbody>\n",
              "</table>\n",
              "</div>"
            ],
            "text/plain": [
              "   Map_center_type center_type\n",
              "0                2      TYPE_C\n",
              "1                2      TYPE_C\n",
              "2                2      TYPE_C\n",
              "3                2      TYPE_C\n",
              "4                2      TYPE_C"
            ]
          },
          "metadata": {
            "tags": []
          },
          "execution_count": 30
        }
      ]
    },
    {
      "cell_type": "code",
      "metadata": {
        "colab": {
          "base_uri": "https://localhost:8080/"
        },
        "id": "qHY52HzatGlc",
        "outputId": "66731faf-547c-4415-8414-e9cc5df7fd17"
      },
      "source": [
        "new_data['Map_category']=label.fit_transform(new_data['category'])\r\n",
        "new_test['Map_category']=label.fit_transform(new_test['category'])\r\n",
        "new_data['Map_cuisine']=label.fit_transform(new_data['cuisine'])\r\n",
        "new_test['Map_cuisine']=label.fit_transform(new_test['cuisine'])\r\n",
        "print(new_data[['Map_category','category']].head())\r\n",
        "print(\"*................................................*\")\r\n",
        "print(new_data[['Map_cuisine','cuisine']].head())\r\n",
        "\r\n"
      ],
      "execution_count": 31,
      "outputs": [
        {
          "output_type": "stream",
          "text": [
            "   Map_category   category\n",
            "0             0  Beverages\n",
            "1             0  Beverages\n",
            "2             0  Beverages\n",
            "3             0  Beverages\n",
            "4             0  Beverages\n",
            "*................................................*\n",
            "   Map_cuisine cuisine\n",
            "0            3    Thai\n",
            "1            3    Thai\n",
            "2            3    Thai\n",
            "3            3    Thai\n",
            "4            3    Thai\n"
          ],
          "name": "stdout"
        }
      ]
    },
    {
      "cell_type": "code",
      "metadata": {
        "id": "ERNN03cFvDUP"
      },
      "source": [
        "#new_data=new_data.drop(['cuisine','category','center_type'],axis=1)\r\n",
        "new_test=new_test.drop(['cuisine','category','center_type'],axis=1)"
      ],
      "execution_count": 53,
      "outputs": []
    },
    {
      "cell_type": "code",
      "metadata": {
        "colab": {
          "base_uri": "https://localhost:8080/",
          "height": 439
        },
        "id": "uNIHVZkavck7",
        "outputId": "345b371d-5f42-4b42-850c-efb7f722baa3"
      },
      "source": [
        "new_data"
      ],
      "execution_count": 33,
      "outputs": [
        {
          "output_type": "execute_result",
          "data": {
            "text/html": [
              "<div>\n",
              "<style scoped>\n",
              "    .dataframe tbody tr th:only-of-type {\n",
              "        vertical-align: middle;\n",
              "    }\n",
              "\n",
              "    .dataframe tbody tr th {\n",
              "        vertical-align: top;\n",
              "    }\n",
              "\n",
              "    .dataframe thead th {\n",
              "        text-align: right;\n",
              "    }\n",
              "</style>\n",
              "<table border=\"1\" class=\"dataframe\">\n",
              "  <thead>\n",
              "    <tr style=\"text-align: right;\">\n",
              "      <th></th>\n",
              "      <th>id</th>\n",
              "      <th>week</th>\n",
              "      <th>center_id</th>\n",
              "      <th>meal_id</th>\n",
              "      <th>checkout_price</th>\n",
              "      <th>base_price</th>\n",
              "      <th>emailer_for_promotion</th>\n",
              "      <th>homepage_featured</th>\n",
              "      <th>num_orders</th>\n",
              "      <th>city_code</th>\n",
              "      <th>region_code</th>\n",
              "      <th>op_area</th>\n",
              "      <th>Map_center_type</th>\n",
              "      <th>Map_category</th>\n",
              "      <th>Map_cuisine</th>\n",
              "    </tr>\n",
              "  </thead>\n",
              "  <tbody>\n",
              "    <tr>\n",
              "      <th>0</th>\n",
              "      <td>1379560</td>\n",
              "      <td>1</td>\n",
              "      <td>55</td>\n",
              "      <td>1885</td>\n",
              "      <td>136.83</td>\n",
              "      <td>152.29</td>\n",
              "      <td>0</td>\n",
              "      <td>0</td>\n",
              "      <td>177</td>\n",
              "      <td>647</td>\n",
              "      <td>56</td>\n",
              "      <td>2.0</td>\n",
              "      <td>2</td>\n",
              "      <td>0</td>\n",
              "      <td>3</td>\n",
              "    </tr>\n",
              "    <tr>\n",
              "      <th>1</th>\n",
              "      <td>1018704</td>\n",
              "      <td>2</td>\n",
              "      <td>55</td>\n",
              "      <td>1885</td>\n",
              "      <td>135.83</td>\n",
              "      <td>152.29</td>\n",
              "      <td>0</td>\n",
              "      <td>0</td>\n",
              "      <td>323</td>\n",
              "      <td>647</td>\n",
              "      <td>56</td>\n",
              "      <td>2.0</td>\n",
              "      <td>2</td>\n",
              "      <td>0</td>\n",
              "      <td>3</td>\n",
              "    </tr>\n",
              "    <tr>\n",
              "      <th>2</th>\n",
              "      <td>1196273</td>\n",
              "      <td>3</td>\n",
              "      <td>55</td>\n",
              "      <td>1885</td>\n",
              "      <td>132.92</td>\n",
              "      <td>133.92</td>\n",
              "      <td>0</td>\n",
              "      <td>0</td>\n",
              "      <td>96</td>\n",
              "      <td>647</td>\n",
              "      <td>56</td>\n",
              "      <td>2.0</td>\n",
              "      <td>2</td>\n",
              "      <td>0</td>\n",
              "      <td>3</td>\n",
              "    </tr>\n",
              "    <tr>\n",
              "      <th>3</th>\n",
              "      <td>1116527</td>\n",
              "      <td>4</td>\n",
              "      <td>55</td>\n",
              "      <td>1885</td>\n",
              "      <td>135.86</td>\n",
              "      <td>134.86</td>\n",
              "      <td>0</td>\n",
              "      <td>0</td>\n",
              "      <td>163</td>\n",
              "      <td>647</td>\n",
              "      <td>56</td>\n",
              "      <td>2.0</td>\n",
              "      <td>2</td>\n",
              "      <td>0</td>\n",
              "      <td>3</td>\n",
              "    </tr>\n",
              "    <tr>\n",
              "      <th>4</th>\n",
              "      <td>1343872</td>\n",
              "      <td>5</td>\n",
              "      <td>55</td>\n",
              "      <td>1885</td>\n",
              "      <td>146.50</td>\n",
              "      <td>147.50</td>\n",
              "      <td>0</td>\n",
              "      <td>0</td>\n",
              "      <td>215</td>\n",
              "      <td>647</td>\n",
              "      <td>56</td>\n",
              "      <td>2.0</td>\n",
              "      <td>2</td>\n",
              "      <td>0</td>\n",
              "      <td>3</td>\n",
              "    </tr>\n",
              "    <tr>\n",
              "      <th>...</th>\n",
              "      <td>...</td>\n",
              "      <td>...</td>\n",
              "      <td>...</td>\n",
              "      <td>...</td>\n",
              "      <td>...</td>\n",
              "      <td>...</td>\n",
              "      <td>...</td>\n",
              "      <td>...</td>\n",
              "      <td>...</td>\n",
              "      <td>...</td>\n",
              "      <td>...</td>\n",
              "      <td>...</td>\n",
              "      <td>...</td>\n",
              "      <td>...</td>\n",
              "      <td>...</td>\n",
              "    </tr>\n",
              "    <tr>\n",
              "      <th>456543</th>\n",
              "      <td>1437396</td>\n",
              "      <td>141</td>\n",
              "      <td>61</td>\n",
              "      <td>2104</td>\n",
              "      <td>583.03</td>\n",
              "      <td>630.53</td>\n",
              "      <td>0</td>\n",
              "      <td>1</td>\n",
              "      <td>13</td>\n",
              "      <td>473</td>\n",
              "      <td>77</td>\n",
              "      <td>4.5</td>\n",
              "      <td>0</td>\n",
              "      <td>4</td>\n",
              "      <td>0</td>\n",
              "    </tr>\n",
              "    <tr>\n",
              "      <th>456544</th>\n",
              "      <td>1060716</td>\n",
              "      <td>142</td>\n",
              "      <td>61</td>\n",
              "      <td>2104</td>\n",
              "      <td>581.03</td>\n",
              "      <td>582.03</td>\n",
              "      <td>0</td>\n",
              "      <td>0</td>\n",
              "      <td>42</td>\n",
              "      <td>473</td>\n",
              "      <td>77</td>\n",
              "      <td>4.5</td>\n",
              "      <td>0</td>\n",
              "      <td>4</td>\n",
              "      <td>0</td>\n",
              "    </tr>\n",
              "    <tr>\n",
              "      <th>456545</th>\n",
              "      <td>1029231</td>\n",
              "      <td>143</td>\n",
              "      <td>61</td>\n",
              "      <td>2104</td>\n",
              "      <td>583.03</td>\n",
              "      <td>581.03</td>\n",
              "      <td>0</td>\n",
              "      <td>0</td>\n",
              "      <td>40</td>\n",
              "      <td>473</td>\n",
              "      <td>77</td>\n",
              "      <td>4.5</td>\n",
              "      <td>0</td>\n",
              "      <td>4</td>\n",
              "      <td>0</td>\n",
              "    </tr>\n",
              "    <tr>\n",
              "      <th>456546</th>\n",
              "      <td>1141147</td>\n",
              "      <td>144</td>\n",
              "      <td>61</td>\n",
              "      <td>2104</td>\n",
              "      <td>582.03</td>\n",
              "      <td>581.03</td>\n",
              "      <td>0</td>\n",
              "      <td>0</td>\n",
              "      <td>53</td>\n",
              "      <td>473</td>\n",
              "      <td>77</td>\n",
              "      <td>4.5</td>\n",
              "      <td>0</td>\n",
              "      <td>4</td>\n",
              "      <td>0</td>\n",
              "    </tr>\n",
              "    <tr>\n",
              "      <th>456547</th>\n",
              "      <td>1443704</td>\n",
              "      <td>145</td>\n",
              "      <td>61</td>\n",
              "      <td>2104</td>\n",
              "      <td>581.03</td>\n",
              "      <td>582.03</td>\n",
              "      <td>0</td>\n",
              "      <td>0</td>\n",
              "      <td>27</td>\n",
              "      <td>473</td>\n",
              "      <td>77</td>\n",
              "      <td>4.5</td>\n",
              "      <td>0</td>\n",
              "      <td>4</td>\n",
              "      <td>0</td>\n",
              "    </tr>\n",
              "  </tbody>\n",
              "</table>\n",
              "<p>456548 rows × 15 columns</p>\n",
              "</div>"
            ],
            "text/plain": [
              "             id  week  center_id  ...  Map_center_type  Map_category  Map_cuisine\n",
              "0       1379560     1         55  ...                2             0            3\n",
              "1       1018704     2         55  ...                2             0            3\n",
              "2       1196273     3         55  ...                2             0            3\n",
              "3       1116527     4         55  ...                2             0            3\n",
              "4       1343872     5         55  ...                2             0            3\n",
              "...         ...   ...        ...  ...              ...           ...          ...\n",
              "456543  1437396   141         61  ...                0             4            0\n",
              "456544  1060716   142         61  ...                0             4            0\n",
              "456545  1029231   143         61  ...                0             4            0\n",
              "456546  1141147   144         61  ...                0             4            0\n",
              "456547  1443704   145         61  ...                0             4            0\n",
              "\n",
              "[456548 rows x 15 columns]"
            ]
          },
          "metadata": {
            "tags": []
          },
          "execution_count": 33
        }
      ]
    },
    {
      "cell_type": "code",
      "metadata": {
        "id": "odABdlRdvo2M"
      },
      "source": [
        "y=new_data['num_orders']\r\n",
        "X=new_data.drop(['num_orders'],axis=1)\r\n"
      ],
      "execution_count": 34,
      "outputs": []
    },
    {
      "cell_type": "code",
      "metadata": {
        "colab": {
          "base_uri": "https://localhost:8080/"
        },
        "id": "JmAejo2wwCwR",
        "outputId": "8371cedb-3901-47e7-9683-622c02cd5fbc"
      },
      "source": [
        "y.shape"
      ],
      "execution_count": 35,
      "outputs": [
        {
          "output_type": "execute_result",
          "data": {
            "text/plain": [
              "(456548,)"
            ]
          },
          "metadata": {
            "tags": []
          },
          "execution_count": 35
        }
      ]
    },
    {
      "cell_type": "code",
      "metadata": {
        "colab": {
          "base_uri": "https://localhost:8080/"
        },
        "id": "6o7_JOdSwD1H",
        "outputId": "63e9a150-43f6-4257-e03b-5ae10f9b141b"
      },
      "source": [
        "X.shape"
      ],
      "execution_count": 36,
      "outputs": [
        {
          "output_type": "execute_result",
          "data": {
            "text/plain": [
              "(456548, 14)"
            ]
          },
          "metadata": {
            "tags": []
          },
          "execution_count": 36
        }
      ]
    },
    {
      "cell_type": "markdown",
      "metadata": {
        "id": "oU9VAvDyCnaE"
      },
      "source": [
        "# spliting dataset into traina and test"
      ]
    },
    {
      "cell_type": "code",
      "metadata": {
        "id": "mFiY8yYdwEma"
      },
      "source": [
        "from sklearn.model_selection import train_test_split\r\n",
        "X_train,X_test,y_train,y_test=train_test_split(X, y, test_size=0.2, random_state=0)"
      ],
      "execution_count": 37,
      "outputs": []
    },
    {
      "cell_type": "code",
      "metadata": {
        "colab": {
          "base_uri": "https://localhost:8080/",
          "height": 419
        },
        "id": "8udYH-RRyy7Y",
        "outputId": "0ac7ce7b-e669-4069-daab-8f66178fca4d"
      },
      "source": [
        "X_train"
      ],
      "execution_count": 38,
      "outputs": [
        {
          "output_type": "execute_result",
          "data": {
            "text/html": [
              "<div>\n",
              "<style scoped>\n",
              "    .dataframe tbody tr th:only-of-type {\n",
              "        vertical-align: middle;\n",
              "    }\n",
              "\n",
              "    .dataframe tbody tr th {\n",
              "        vertical-align: top;\n",
              "    }\n",
              "\n",
              "    .dataframe thead th {\n",
              "        text-align: right;\n",
              "    }\n",
              "</style>\n",
              "<table border=\"1\" class=\"dataframe\">\n",
              "  <thead>\n",
              "    <tr style=\"text-align: right;\">\n",
              "      <th></th>\n",
              "      <th>id</th>\n",
              "      <th>week</th>\n",
              "      <th>center_id</th>\n",
              "      <th>meal_id</th>\n",
              "      <th>checkout_price</th>\n",
              "      <th>base_price</th>\n",
              "      <th>emailer_for_promotion</th>\n",
              "      <th>homepage_featured</th>\n",
              "      <th>city_code</th>\n",
              "      <th>region_code</th>\n",
              "      <th>op_area</th>\n",
              "      <th>Map_center_type</th>\n",
              "      <th>Map_category</th>\n",
              "      <th>Map_cuisine</th>\n",
              "    </tr>\n",
              "  </thead>\n",
              "  <tbody>\n",
              "    <tr>\n",
              "      <th>141016</th>\n",
              "      <td>1136831</td>\n",
              "      <td>129</td>\n",
              "      <td>89</td>\n",
              "      <td>1727</td>\n",
              "      <td>464.63</td>\n",
              "      <td>465.63</td>\n",
              "      <td>0</td>\n",
              "      <td>0</td>\n",
              "      <td>703</td>\n",
              "      <td>56</td>\n",
              "      <td>4.8</td>\n",
              "      <td>0</td>\n",
              "      <td>8</td>\n",
              "      <td>1</td>\n",
              "    </tr>\n",
              "    <tr>\n",
              "      <th>406574</th>\n",
              "      <td>1173698</td>\n",
              "      <td>89</td>\n",
              "      <td>149</td>\n",
              "      <td>2569</td>\n",
              "      <td>310.43</td>\n",
              "      <td>309.43</td>\n",
              "      <td>0</td>\n",
              "      <td>0</td>\n",
              "      <td>478</td>\n",
              "      <td>77</td>\n",
              "      <td>2.4</td>\n",
              "      <td>0</td>\n",
              "      <td>9</td>\n",
              "      <td>2</td>\n",
              "    </tr>\n",
              "    <tr>\n",
              "      <th>189872</th>\n",
              "      <td>1343343</td>\n",
              "      <td>100</td>\n",
              "      <td>51</td>\n",
              "      <td>2126</td>\n",
              "      <td>534.53</td>\n",
              "      <td>532.53</td>\n",
              "      <td>0</td>\n",
              "      <td>0</td>\n",
              "      <td>638</td>\n",
              "      <td>56</td>\n",
              "      <td>7.0</td>\n",
              "      <td>0</td>\n",
              "      <td>6</td>\n",
              "      <td>2</td>\n",
              "    </tr>\n",
              "    <tr>\n",
              "      <th>323934</th>\n",
              "      <td>1295774</td>\n",
              "      <td>117</td>\n",
              "      <td>161</td>\n",
              "      <td>2304</td>\n",
              "      <td>387.03</td>\n",
              "      <td>472.39</td>\n",
              "      <td>0</td>\n",
              "      <td>0</td>\n",
              "      <td>658</td>\n",
              "      <td>34</td>\n",
              "      <td>3.9</td>\n",
              "      <td>1</td>\n",
              "      <td>2</td>\n",
              "      <td>1</td>\n",
              "    </tr>\n",
              "    <tr>\n",
              "      <th>142275</th>\n",
              "      <td>1311191</td>\n",
              "      <td>85</td>\n",
              "      <td>91</td>\n",
              "      <td>1727</td>\n",
              "      <td>403.55</td>\n",
              "      <td>446.23</td>\n",
              "      <td>0</td>\n",
              "      <td>1</td>\n",
              "      <td>590</td>\n",
              "      <td>56</td>\n",
              "      <td>0.9</td>\n",
              "      <td>2</td>\n",
              "      <td>8</td>\n",
              "      <td>1</td>\n",
              "    </tr>\n",
              "    <tr>\n",
              "      <th>...</th>\n",
              "      <td>...</td>\n",
              "      <td>...</td>\n",
              "      <td>...</td>\n",
              "      <td>...</td>\n",
              "      <td>...</td>\n",
              "      <td>...</td>\n",
              "      <td>...</td>\n",
              "      <td>...</td>\n",
              "      <td>...</td>\n",
              "      <td>...</td>\n",
              "      <td>...</td>\n",
              "      <td>...</td>\n",
              "      <td>...</td>\n",
              "      <td>...</td>\n",
              "    </tr>\n",
              "    <tr>\n",
              "      <th>152315</th>\n",
              "      <td>1367349</td>\n",
              "      <td>3</td>\n",
              "      <td>152</td>\n",
              "      <td>1109</td>\n",
              "      <td>304.58</td>\n",
              "      <td>305.58</td>\n",
              "      <td>0</td>\n",
              "      <td>0</td>\n",
              "      <td>576</td>\n",
              "      <td>34</td>\n",
              "      <td>4.0</td>\n",
              "      <td>1</td>\n",
              "      <td>8</td>\n",
              "      <td>1</td>\n",
              "    </tr>\n",
              "    <tr>\n",
              "      <th>439107</th>\n",
              "      <td>1225420</td>\n",
              "      <td>128</td>\n",
              "      <td>108</td>\n",
              "      <td>2956</td>\n",
              "      <td>630.53</td>\n",
              "      <td>630.53</td>\n",
              "      <td>0</td>\n",
              "      <td>0</td>\n",
              "      <td>579</td>\n",
              "      <td>56</td>\n",
              "      <td>4.4</td>\n",
              "      <td>1</td>\n",
              "      <td>4</td>\n",
              "      <td>0</td>\n",
              "    </tr>\n",
              "    <tr>\n",
              "      <th>117952</th>\n",
              "      <td>1081711</td>\n",
              "      <td>85</td>\n",
              "      <td>52</td>\n",
              "      <td>2322</td>\n",
              "      <td>368.66</td>\n",
              "      <td>450.14</td>\n",
              "      <td>0</td>\n",
              "      <td>0</td>\n",
              "      <td>685</td>\n",
              "      <td>56</td>\n",
              "      <td>5.6</td>\n",
              "      <td>1</td>\n",
              "      <td>0</td>\n",
              "      <td>0</td>\n",
              "    </tr>\n",
              "    <tr>\n",
              "      <th>435829</th>\n",
              "      <td>1205137</td>\n",
              "      <td>67</td>\n",
              "      <td>30</td>\n",
              "      <td>2577</td>\n",
              "      <td>290.03</td>\n",
              "      <td>290.03</td>\n",
              "      <td>0</td>\n",
              "      <td>0</td>\n",
              "      <td>604</td>\n",
              "      <td>56</td>\n",
              "      <td>3.5</td>\n",
              "      <td>0</td>\n",
              "      <td>13</td>\n",
              "      <td>3</td>\n",
              "    </tr>\n",
              "    <tr>\n",
              "      <th>305711</th>\n",
              "      <td>1374272</td>\n",
              "      <td>135</td>\n",
              "      <td>72</td>\n",
              "      <td>1525</td>\n",
              "      <td>319.13</td>\n",
              "      <td>320.13</td>\n",
              "      <td>0</td>\n",
              "      <td>1</td>\n",
              "      <td>638</td>\n",
              "      <td>56</td>\n",
              "      <td>3.9</td>\n",
              "      <td>2</td>\n",
              "      <td>5</td>\n",
              "      <td>3</td>\n",
              "    </tr>\n",
              "  </tbody>\n",
              "</table>\n",
              "<p>365238 rows × 14 columns</p>\n",
              "</div>"
            ],
            "text/plain": [
              "             id  week  center_id  ...  Map_center_type  Map_category  Map_cuisine\n",
              "141016  1136831   129         89  ...                0             8            1\n",
              "406574  1173698    89        149  ...                0             9            2\n",
              "189872  1343343   100         51  ...                0             6            2\n",
              "323934  1295774   117        161  ...                1             2            1\n",
              "142275  1311191    85         91  ...                2             8            1\n",
              "...         ...   ...        ...  ...              ...           ...          ...\n",
              "152315  1367349     3        152  ...                1             8            1\n",
              "439107  1225420   128        108  ...                1             4            0\n",
              "117952  1081711    85         52  ...                1             0            0\n",
              "435829  1205137    67         30  ...                0            13            3\n",
              "305711  1374272   135         72  ...                2             5            3\n",
              "\n",
              "[365238 rows x 14 columns]"
            ]
          },
          "metadata": {
            "tags": []
          },
          "execution_count": 38
        }
      ]
    },
    {
      "cell_type": "code",
      "metadata": {
        "colab": {
          "base_uri": "https://localhost:8080/"
        },
        "id": "Pm76qv28y4j9",
        "outputId": "950671af-db40-41fb-bc9b-6ee45019626b"
      },
      "source": [
        "y_train"
      ],
      "execution_count": 39,
      "outputs": [
        {
          "output_type": "execute_result",
          "data": {
            "text/plain": [
              "141016    499\n",
              "406574    148\n",
              "189872     26\n",
              "323934     28\n",
              "142275    242\n",
              "         ... \n",
              "152315    649\n",
              "439107     94\n",
              "117952    134\n",
              "435829     96\n",
              "305711     42\n",
              "Name: num_orders, Length: 365238, dtype: int64"
            ]
          },
          "metadata": {
            "tags": []
          },
          "execution_count": 39
        }
      ]
    },
    {
      "cell_type": "markdown",
      "metadata": {
        "id": "cwUMV29MC56Q"
      },
      "source": [
        "# Model Implementation"
      ]
    },
    {
      "cell_type": "code",
      "metadata": {
        "colab": {
          "base_uri": "https://localhost:8080/"
        },
        "id": "vQ-3G9_AwjSf",
        "outputId": "ce7973e5-bd22-4aea-a59f-ee4e1c02f2da"
      },
      "source": [
        "from sklearn.linear_model import LinearRegression\r\n",
        "\r\n",
        "LR_model=LinearRegression()\r\n",
        "LR_model.fit(X_train  ,y_train)\r\n"
      ],
      "execution_count": 40,
      "outputs": [
        {
          "output_type": "execute_result",
          "data": {
            "text/plain": [
              "LinearRegression(copy_X=True, fit_intercept=True, n_jobs=None, normalize=False)"
            ]
          },
          "metadata": {
            "tags": []
          },
          "execution_count": 40
        }
      ]
    },
    {
      "cell_type": "code",
      "metadata": {
        "colab": {
          "base_uri": "https://localhost:8080/"
        },
        "id": "4JFnTP1Tyknt",
        "outputId": "fafeb5dd-6a80-4716-9fa2-7c897ff8a4bd"
      },
      "source": [
        "LR_model.coef_"
      ],
      "execution_count": 41,
      "outputs": [
        {
          "output_type": "execute_result",
          "data": {
            "text/plain": [
              "array([ 5.65080466e-07, -7.45886143e-02, -3.38072237e-01,  6.57078626e-04,\n",
              "       -4.63225195e-01, -6.91706540e-01,  2.96204376e+02,  2.67179351e+02,\n",
              "        1.14845093e-01,  6.00763917e-01,  6.23176120e+01, -3.67060858e+00,\n",
              "        1.38674761e+01, -6.74602190e+01])"
            ]
          },
          "metadata": {
            "tags": []
          },
          "execution_count": 41
        }
      ]
    },
    {
      "cell_type": "code",
      "metadata": {
        "id": "CB8UyhvC0EQD"
      },
      "source": [
        "# Root Mean Squared Error on training dataset\r\n",
        "predict_train = LR_model.predict(X_test)"
      ],
      "execution_count": 42,
      "outputs": []
    },
    {
      "cell_type": "code",
      "metadata": {
        "colab": {
          "base_uri": "https://localhost:8080/"
        },
        "id": "NQjOzWB-09ex",
        "outputId": "99391456-9dd4-4eb3-9199-2e17b11331aa"
      },
      "source": [
        "from sklearn.metrics import mean_squared_error\r\n",
        "RMSE=mean_squared_error(y_test,predict_train)**(0.5)\r\n",
        "print('RMSE OF linear_Reg:',RMSE)"
      ],
      "execution_count": 43,
      "outputs": [
        {
          "output_type": "stream",
          "text": [
            "RMSE OF linear_Reg: 346.3963446295481\n"
          ],
          "name": "stdout"
        }
      ]
    },
    {
      "cell_type": "code",
      "metadata": {
        "colab": {
          "base_uri": "https://localhost:8080/"
        },
        "id": "f-pn9GmD15as",
        "outputId": "aedd3f78-6ded-4ac1-96b0-8d8466da9bfb"
      },
      "source": [
        "from sklearn.tree import DecisionTreeRegressor\r\n",
        "tree_model=DecisionTreeRegressor()\r\n",
        "tree_model.fit(X_train  ,y_train)"
      ],
      "execution_count": 44,
      "outputs": [
        {
          "output_type": "execute_result",
          "data": {
            "text/plain": [
              "DecisionTreeRegressor(ccp_alpha=0.0, criterion='mse', max_depth=None,\n",
              "                      max_features=None, max_leaf_nodes=None,\n",
              "                      min_impurity_decrease=0.0, min_impurity_split=None,\n",
              "                      min_samples_leaf=1, min_samples_split=2,\n",
              "                      min_weight_fraction_leaf=0.0, presort='deprecated',\n",
              "                      random_state=None, splitter='best')"
            ]
          },
          "metadata": {
            "tags": []
          },
          "execution_count": 44
        }
      ]
    },
    {
      "cell_type": "code",
      "metadata": {
        "colab": {
          "base_uri": "https://localhost:8080/"
        },
        "id": "o60B2hJG16BI",
        "outputId": "40261374-b551-41ca-a36c-b7ad0558c487"
      },
      "source": [
        "from sklearn.metrics import mean_squared_log_error\r\n",
        "predict_train2 = tree_model.predict(X_test)\r\n",
        "MSLE_tree=mean_squared_log_error(y_test,predict_train2)**(0.5)\r\n",
        "print('RMSE OF tree_Reg:',MSLE_tree)"
      ],
      "execution_count": 45,
      "outputs": [
        {
          "output_type": "stream",
          "text": [
            "RMSE OF tree_Reg: 0.6557969425383511\n"
          ],
          "name": "stdout"
        }
      ]
    },
    {
      "cell_type": "code",
      "metadata": {
        "colab": {
          "base_uri": "https://localhost:8080/"
        },
        "id": "gGMHX8e-12HG",
        "outputId": "98864d89-d249-497e-fd46-20f15e42e537"
      },
      "source": [
        "RMSE_tree=mean_squared_error(y_test,predict_train2)**(0.5)\r\n",
        "print('RMSE OF Binary tree :',RMSE_tree)"
      ],
      "execution_count": 46,
      "outputs": [
        {
          "output_type": "stream",
          "text": [
            "RMSE OF Binary tree : 232.79001737925913\n"
          ],
          "name": "stdout"
        }
      ]
    },
    {
      "cell_type": "code",
      "metadata": {
        "colab": {
          "base_uri": "https://localhost:8080/"
        },
        "id": "TlHSeHcz3_AM",
        "outputId": "4618ba52-f164-4bb2-c99c-0bf3c9b469e8"
      },
      "source": [
        "from sklearn.ensemble import RandomForestRegressor\r\n",
        "\r\n",
        "forest_model=RandomForestRegressor(n_estimators =10, random_state =101)\r\n",
        "forest_model.fit(X_train , y_train)"
      ],
      "execution_count": 73,
      "outputs": [
        {
          "output_type": "execute_result",
          "data": {
            "text/plain": [
              "RandomForestRegressor(bootstrap=True, ccp_alpha=0.0, criterion='mse',\n",
              "                      max_depth=None, max_features='auto', max_leaf_nodes=None,\n",
              "                      max_samples=None, min_impurity_decrease=0.0,\n",
              "                      min_impurity_split=None, min_samples_leaf=1,\n",
              "                      min_samples_split=2, min_weight_fraction_leaf=0.0,\n",
              "                      n_estimators=10, n_jobs=None, oob_score=False,\n",
              "                      random_state=101, verbose=0, warm_start=False)"
            ]
          },
          "metadata": {
            "tags": []
          },
          "execution_count": 73
        }
      ]
    },
    {
      "cell_type": "code",
      "metadata": {
        "colab": {
          "base_uri": "https://localhost:8080/"
        },
        "id": "dbhQ7UG45Gd2",
        "outputId": "71c17c38-fe8d-4d4a-f9c8-3de028ce891b"
      },
      "source": [
        "predict_train3=forest_model.predict(X_test)\r\n",
        "MSLE_forest=mean_squared_log_error(y_test,predict_train3)**(0.5)\r\n",
        "print('MSLE OF forest_Reg:',MSLE_forest)"
      ],
      "execution_count": 74,
      "outputs": [
        {
          "output_type": "stream",
          "text": [
            "MSLE OF forest_Reg: 0.5091105265030447\n"
          ],
          "name": "stdout"
        }
      ]
    },
    {
      "cell_type": "code",
      "metadata": {
        "colab": {
          "base_uri": "https://localhost:8080/"
        },
        "id": "Zi6Zzn7L4eIi",
        "outputId": "4d8dffb5-9f29-429a-d501-4f7606c79986"
      },
      "source": [
        "RMSE_forest=mean_squared_error(y_test,predict_train3)**(0.5)\r\n",
        "print('RMSE OF Random forest :',RMSE_forest)"
      ],
      "execution_count": 75,
      "outputs": [
        {
          "output_type": "stream",
          "text": [
            "RMSE OF Random forest : 161.63907978887062\n"
          ],
          "name": "stdout"
        }
      ]
    },
    {
      "cell_type": "code",
      "metadata": {
        "id": "df-VggvQ68ma"
      },
      "source": [
        "predict_train4=forest_model.predict(new_test)"
      ],
      "execution_count": 68,
      "outputs": []
    },
    {
      "cell_type": "code",
      "metadata": {
        "id": "U0C7dSWv89AV"
      },
      "source": [
        "final_dataset=pd.DataFrame({'id':df_test.id,'num_orders':predict_train4})"
      ],
      "execution_count": 69,
      "outputs": []
    },
    {
      "cell_type": "code",
      "metadata": {
        "colab": {
          "base_uri": "https://localhost:8080/",
          "height": 419
        },
        "id": "sIJ-yzZz-goC",
        "outputId": "a072c2d9-c2cb-4b5e-fe7f-1cbd1a298a0d"
      },
      "source": [
        "final_dataset"
      ],
      "execution_count": 60,
      "outputs": [
        {
          "output_type": "execute_result",
          "data": {
            "text/html": [
              "<div>\n",
              "<style scoped>\n",
              "    .dataframe tbody tr th:only-of-type {\n",
              "        vertical-align: middle;\n",
              "    }\n",
              "\n",
              "    .dataframe tbody tr th {\n",
              "        vertical-align: top;\n",
              "    }\n",
              "\n",
              "    .dataframe thead th {\n",
              "        text-align: right;\n",
              "    }\n",
              "</style>\n",
              "<table border=\"1\" class=\"dataframe\">\n",
              "  <thead>\n",
              "    <tr style=\"text-align: right;\">\n",
              "      <th></th>\n",
              "      <th>ID</th>\n",
              "      <th>num_orders</th>\n",
              "    </tr>\n",
              "  </thead>\n",
              "  <tbody>\n",
              "    <tr>\n",
              "      <th>0</th>\n",
              "      <td>1028232</td>\n",
              "      <td>165.7</td>\n",
              "    </tr>\n",
              "    <tr>\n",
              "      <th>1</th>\n",
              "      <td>1127204</td>\n",
              "      <td>130.8</td>\n",
              "    </tr>\n",
              "    <tr>\n",
              "      <th>2</th>\n",
              "      <td>1212707</td>\n",
              "      <td>99.4</td>\n",
              "    </tr>\n",
              "    <tr>\n",
              "      <th>3</th>\n",
              "      <td>1082698</td>\n",
              "      <td>126.8</td>\n",
              "    </tr>\n",
              "    <tr>\n",
              "      <th>4</th>\n",
              "      <td>1400926</td>\n",
              "      <td>185.1</td>\n",
              "    </tr>\n",
              "    <tr>\n",
              "      <th>...</th>\n",
              "      <td>...</td>\n",
              "      <td>...</td>\n",
              "    </tr>\n",
              "    <tr>\n",
              "      <th>32568</th>\n",
              "      <td>1250239</td>\n",
              "      <td>42.1</td>\n",
              "    </tr>\n",
              "    <tr>\n",
              "      <th>32569</th>\n",
              "      <td>1039516</td>\n",
              "      <td>155.4</td>\n",
              "    </tr>\n",
              "    <tr>\n",
              "      <th>32570</th>\n",
              "      <td>1158107</td>\n",
              "      <td>61.2</td>\n",
              "    </tr>\n",
              "    <tr>\n",
              "      <th>32571</th>\n",
              "      <td>1444235</td>\n",
              "      <td>51.9</td>\n",
              "    </tr>\n",
              "    <tr>\n",
              "      <th>32572</th>\n",
              "      <td>1291286</td>\n",
              "      <td>35.2</td>\n",
              "    </tr>\n",
              "  </tbody>\n",
              "</table>\n",
              "<p>32573 rows × 2 columns</p>\n",
              "</div>"
            ],
            "text/plain": [
              "            ID  num_orders\n",
              "0      1028232       165.7\n",
              "1      1127204       130.8\n",
              "2      1212707        99.4\n",
              "3      1082698       126.8\n",
              "4      1400926       185.1\n",
              "...        ...         ...\n",
              "32568  1250239        42.1\n",
              "32569  1039516       155.4\n",
              "32570  1158107        61.2\n",
              "32571  1444235        51.9\n",
              "32572  1291286        35.2\n",
              "\n",
              "[32573 rows x 2 columns]"
            ]
          },
          "metadata": {
            "tags": []
          },
          "execution_count": 60
        }
      ]
    },
    {
      "cell_type": "code",
      "metadata": {
        "id": "EjDVQu1n-iax"
      },
      "source": [
        "final_dataset.to_csv(\"/content/sample_submission_hSlSoT6.csv\",index= False)"
      ],
      "execution_count": 64,
      "outputs": []
    }
  ]
}